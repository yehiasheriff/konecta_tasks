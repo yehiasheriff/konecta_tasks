{
  "nbformat": 4,
  "nbformat_minor": 0,
  "metadata": {
    "colab": {
      "provenance": []
    },
    "kernelspec": {
      "name": "python3",
      "display_name": "Python 3"
    },
    "language_info": {
      "name": "python"
    },
    "widgets": {
      "application/vnd.jupyter.widget-state+json": {
        "455a0802506948ac84f75c01ca528f12": {
          "model_module": "@jupyter-widgets/controls",
          "model_name": "HBoxModel",
          "model_module_version": "1.5.0",
          "state": {
            "_dom_classes": [],
            "_model_module": "@jupyter-widgets/controls",
            "_model_module_version": "1.5.0",
            "_model_name": "HBoxModel",
            "_view_count": null,
            "_view_module": "@jupyter-widgets/controls",
            "_view_module_version": "1.5.0",
            "_view_name": "HBoxView",
            "box_style": "",
            "children": [
              "IPY_MODEL_a388cc5fd262490bb11c777f32b1f295",
              "IPY_MODEL_8adff288dcdb41528f737bfd9394e342",
              "IPY_MODEL_e9efecfc62a541809e2becb50db48950"
            ],
            "layout": "IPY_MODEL_a4da4da0deb44ae49caaf42cfa7d0b02"
          }
        },
        "a388cc5fd262490bb11c777f32b1f295": {
          "model_module": "@jupyter-widgets/controls",
          "model_name": "HTMLModel",
          "model_module_version": "1.5.0",
          "state": {
            "_dom_classes": [],
            "_model_module": "@jupyter-widgets/controls",
            "_model_module_version": "1.5.0",
            "_model_name": "HTMLModel",
            "_view_count": null,
            "_view_module": "@jupyter-widgets/controls",
            "_view_module_version": "1.5.0",
            "_view_name": "HTMLView",
            "description": "",
            "description_tooltip": null,
            "layout": "IPY_MODEL_5ecc3ac24b524bb1aa0d4c694cf537e5",
            "placeholder": "​",
            "style": "IPY_MODEL_a15847b51d784d7aaa4f33471c031272",
            "value": "diabetes.csv: "
          }
        },
        "8adff288dcdb41528f737bfd9394e342": {
          "model_module": "@jupyter-widgets/controls",
          "model_name": "FloatProgressModel",
          "model_module_version": "1.5.0",
          "state": {
            "_dom_classes": [],
            "_model_module": "@jupyter-widgets/controls",
            "_model_module_version": "1.5.0",
            "_model_name": "FloatProgressModel",
            "_view_count": null,
            "_view_module": "@jupyter-widgets/controls",
            "_view_module_version": "1.5.0",
            "_view_name": "ProgressView",
            "bar_style": "success",
            "description": "",
            "description_tooltip": null,
            "layout": "IPY_MODEL_bdaa69b6b1904a4fbe3f0011efc40a50",
            "max": 1,
            "min": 0,
            "orientation": "horizontal",
            "style": "IPY_MODEL_a0ee0e4081af4ff7a28245bd0d156f9c",
            "value": 1
          }
        },
        "e9efecfc62a541809e2becb50db48950": {
          "model_module": "@jupyter-widgets/controls",
          "model_name": "HTMLModel",
          "model_module_version": "1.5.0",
          "state": {
            "_dom_classes": [],
            "_model_module": "@jupyter-widgets/controls",
            "_model_module_version": "1.5.0",
            "_model_name": "HTMLModel",
            "_view_count": null,
            "_view_module": "@jupyter-widgets/controls",
            "_view_module_version": "1.5.0",
            "_view_name": "HTMLView",
            "description": "",
            "description_tooltip": null,
            "layout": "IPY_MODEL_593e7203579b49eaa52c70c58ae8059a",
            "placeholder": "​",
            "style": "IPY_MODEL_47d7565590ef46ef8ba7197e58074557",
            "value": " 23.3k/? [00:00&lt;00:00, 1.05MB/s]"
          }
        },
        "a4da4da0deb44ae49caaf42cfa7d0b02": {
          "model_module": "@jupyter-widgets/base",
          "model_name": "LayoutModel",
          "model_module_version": "1.2.0",
          "state": {
            "_model_module": "@jupyter-widgets/base",
            "_model_module_version": "1.2.0",
            "_model_name": "LayoutModel",
            "_view_count": null,
            "_view_module": "@jupyter-widgets/base",
            "_view_module_version": "1.2.0",
            "_view_name": "LayoutView",
            "align_content": null,
            "align_items": null,
            "align_self": null,
            "border": null,
            "bottom": null,
            "display": null,
            "flex": null,
            "flex_flow": null,
            "grid_area": null,
            "grid_auto_columns": null,
            "grid_auto_flow": null,
            "grid_auto_rows": null,
            "grid_column": null,
            "grid_gap": null,
            "grid_row": null,
            "grid_template_areas": null,
            "grid_template_columns": null,
            "grid_template_rows": null,
            "height": null,
            "justify_content": null,
            "justify_items": null,
            "left": null,
            "margin": null,
            "max_height": null,
            "max_width": null,
            "min_height": null,
            "min_width": null,
            "object_fit": null,
            "object_position": null,
            "order": null,
            "overflow": null,
            "overflow_x": null,
            "overflow_y": null,
            "padding": null,
            "right": null,
            "top": null,
            "visibility": null,
            "width": null
          }
        },
        "5ecc3ac24b524bb1aa0d4c694cf537e5": {
          "model_module": "@jupyter-widgets/base",
          "model_name": "LayoutModel",
          "model_module_version": "1.2.0",
          "state": {
            "_model_module": "@jupyter-widgets/base",
            "_model_module_version": "1.2.0",
            "_model_name": "LayoutModel",
            "_view_count": null,
            "_view_module": "@jupyter-widgets/base",
            "_view_module_version": "1.2.0",
            "_view_name": "LayoutView",
            "align_content": null,
            "align_items": null,
            "align_self": null,
            "border": null,
            "bottom": null,
            "display": null,
            "flex": null,
            "flex_flow": null,
            "grid_area": null,
            "grid_auto_columns": null,
            "grid_auto_flow": null,
            "grid_auto_rows": null,
            "grid_column": null,
            "grid_gap": null,
            "grid_row": null,
            "grid_template_areas": null,
            "grid_template_columns": null,
            "grid_template_rows": null,
            "height": null,
            "justify_content": null,
            "justify_items": null,
            "left": null,
            "margin": null,
            "max_height": null,
            "max_width": null,
            "min_height": null,
            "min_width": null,
            "object_fit": null,
            "object_position": null,
            "order": null,
            "overflow": null,
            "overflow_x": null,
            "overflow_y": null,
            "padding": null,
            "right": null,
            "top": null,
            "visibility": null,
            "width": null
          }
        },
        "a15847b51d784d7aaa4f33471c031272": {
          "model_module": "@jupyter-widgets/controls",
          "model_name": "DescriptionStyleModel",
          "model_module_version": "1.5.0",
          "state": {
            "_model_module": "@jupyter-widgets/controls",
            "_model_module_version": "1.5.0",
            "_model_name": "DescriptionStyleModel",
            "_view_count": null,
            "_view_module": "@jupyter-widgets/base",
            "_view_module_version": "1.2.0",
            "_view_name": "StyleView",
            "description_width": ""
          }
        },
        "bdaa69b6b1904a4fbe3f0011efc40a50": {
          "model_module": "@jupyter-widgets/base",
          "model_name": "LayoutModel",
          "model_module_version": "1.2.0",
          "state": {
            "_model_module": "@jupyter-widgets/base",
            "_model_module_version": "1.2.0",
            "_model_name": "LayoutModel",
            "_view_count": null,
            "_view_module": "@jupyter-widgets/base",
            "_view_module_version": "1.2.0",
            "_view_name": "LayoutView",
            "align_content": null,
            "align_items": null,
            "align_self": null,
            "border": null,
            "bottom": null,
            "display": null,
            "flex": null,
            "flex_flow": null,
            "grid_area": null,
            "grid_auto_columns": null,
            "grid_auto_flow": null,
            "grid_auto_rows": null,
            "grid_column": null,
            "grid_gap": null,
            "grid_row": null,
            "grid_template_areas": null,
            "grid_template_columns": null,
            "grid_template_rows": null,
            "height": null,
            "justify_content": null,
            "justify_items": null,
            "left": null,
            "margin": null,
            "max_height": null,
            "max_width": null,
            "min_height": null,
            "min_width": null,
            "object_fit": null,
            "object_position": null,
            "order": null,
            "overflow": null,
            "overflow_x": null,
            "overflow_y": null,
            "padding": null,
            "right": null,
            "top": null,
            "visibility": null,
            "width": "20px"
          }
        },
        "a0ee0e4081af4ff7a28245bd0d156f9c": {
          "model_module": "@jupyter-widgets/controls",
          "model_name": "ProgressStyleModel",
          "model_module_version": "1.5.0",
          "state": {
            "_model_module": "@jupyter-widgets/controls",
            "_model_module_version": "1.5.0",
            "_model_name": "ProgressStyleModel",
            "_view_count": null,
            "_view_module": "@jupyter-widgets/base",
            "_view_module_version": "1.2.0",
            "_view_name": "StyleView",
            "bar_color": null,
            "description_width": ""
          }
        },
        "593e7203579b49eaa52c70c58ae8059a": {
          "model_module": "@jupyter-widgets/base",
          "model_name": "LayoutModel",
          "model_module_version": "1.2.0",
          "state": {
            "_model_module": "@jupyter-widgets/base",
            "_model_module_version": "1.2.0",
            "_model_name": "LayoutModel",
            "_view_count": null,
            "_view_module": "@jupyter-widgets/base",
            "_view_module_version": "1.2.0",
            "_view_name": "LayoutView",
            "align_content": null,
            "align_items": null,
            "align_self": null,
            "border": null,
            "bottom": null,
            "display": null,
            "flex": null,
            "flex_flow": null,
            "grid_area": null,
            "grid_auto_columns": null,
            "grid_auto_flow": null,
            "grid_auto_rows": null,
            "grid_column": null,
            "grid_gap": null,
            "grid_row": null,
            "grid_template_areas": null,
            "grid_template_columns": null,
            "grid_template_rows": null,
            "height": null,
            "justify_content": null,
            "justify_items": null,
            "left": null,
            "margin": null,
            "max_height": null,
            "max_width": null,
            "min_height": null,
            "min_width": null,
            "object_fit": null,
            "object_position": null,
            "order": null,
            "overflow": null,
            "overflow_x": null,
            "overflow_y": null,
            "padding": null,
            "right": null,
            "top": null,
            "visibility": null,
            "width": null
          }
        },
        "47d7565590ef46ef8ba7197e58074557": {
          "model_module": "@jupyter-widgets/controls",
          "model_name": "DescriptionStyleModel",
          "model_module_version": "1.5.0",
          "state": {
            "_model_module": "@jupyter-widgets/controls",
            "_model_module_version": "1.5.0",
            "_model_name": "DescriptionStyleModel",
            "_view_count": null,
            "_view_module": "@jupyter-widgets/base",
            "_view_module_version": "1.2.0",
            "_view_name": "StyleView",
            "description_width": ""
          }
        },
        "e46d366c426e49e5ab49e2f316cc59fc": {
          "model_module": "@jupyter-widgets/controls",
          "model_name": "HBoxModel",
          "model_module_version": "1.5.0",
          "state": {
            "_dom_classes": [],
            "_model_module": "@jupyter-widgets/controls",
            "_model_module_version": "1.5.0",
            "_model_name": "HBoxModel",
            "_view_count": null,
            "_view_module": "@jupyter-widgets/controls",
            "_view_module_version": "1.5.0",
            "_view_name": "HBoxView",
            "box_style": "",
            "children": [
              "IPY_MODEL_192a17cafa034dfd8f73c48d302819e4",
              "IPY_MODEL_38d18a6f58ff481ebc1e99700ec256fb",
              "IPY_MODEL_c40fd5be05cf42ccab8f642f8b914207"
            ],
            "layout": "IPY_MODEL_15dc076ca8ca4ae7b20526d937752838"
          }
        },
        "192a17cafa034dfd8f73c48d302819e4": {
          "model_module": "@jupyter-widgets/controls",
          "model_name": "HTMLModel",
          "model_module_version": "1.5.0",
          "state": {
            "_dom_classes": [],
            "_model_module": "@jupyter-widgets/controls",
            "_model_module_version": "1.5.0",
            "_model_name": "HTMLModel",
            "_view_count": null,
            "_view_module": "@jupyter-widgets/controls",
            "_view_module_version": "1.5.0",
            "_view_name": "HTMLView",
            "description": "",
            "description_tooltip": null,
            "layout": "IPY_MODEL_a8016ec0b65a4aaaa7157a5cd984ed13",
            "placeholder": "​",
            "style": "IPY_MODEL_cebde4abffb1445cb1bedd21f4a60cf4",
            "value": "Generating train split: 100%"
          }
        },
        "38d18a6f58ff481ebc1e99700ec256fb": {
          "model_module": "@jupyter-widgets/controls",
          "model_name": "FloatProgressModel",
          "model_module_version": "1.5.0",
          "state": {
            "_dom_classes": [],
            "_model_module": "@jupyter-widgets/controls",
            "_model_module_version": "1.5.0",
            "_model_name": "FloatProgressModel",
            "_view_count": null,
            "_view_module": "@jupyter-widgets/controls",
            "_view_module_version": "1.5.0",
            "_view_name": "ProgressView",
            "bar_style": "success",
            "description": "",
            "description_tooltip": null,
            "layout": "IPY_MODEL_fc91d7559ec443e3bffce60a34d32dfc",
            "max": 768,
            "min": 0,
            "orientation": "horizontal",
            "style": "IPY_MODEL_452ea9eae4ef4fbbaf5124b1fac3a3fd",
            "value": 768
          }
        },
        "c40fd5be05cf42ccab8f642f8b914207": {
          "model_module": "@jupyter-widgets/controls",
          "model_name": "HTMLModel",
          "model_module_version": "1.5.0",
          "state": {
            "_dom_classes": [],
            "_model_module": "@jupyter-widgets/controls",
            "_model_module_version": "1.5.0",
            "_model_name": "HTMLModel",
            "_view_count": null,
            "_view_module": "@jupyter-widgets/controls",
            "_view_module_version": "1.5.0",
            "_view_name": "HTMLView",
            "description": "",
            "description_tooltip": null,
            "layout": "IPY_MODEL_aa1033e4a5b74fd99d3f286a428bb281",
            "placeholder": "​",
            "style": "IPY_MODEL_b4351fe6585d48c3b798ae873ebb1660",
            "value": " 768/768 [00:00&lt;00:00, 14995.14 examples/s]"
          }
        },
        "15dc076ca8ca4ae7b20526d937752838": {
          "model_module": "@jupyter-widgets/base",
          "model_name": "LayoutModel",
          "model_module_version": "1.2.0",
          "state": {
            "_model_module": "@jupyter-widgets/base",
            "_model_module_version": "1.2.0",
            "_model_name": "LayoutModel",
            "_view_count": null,
            "_view_module": "@jupyter-widgets/base",
            "_view_module_version": "1.2.0",
            "_view_name": "LayoutView",
            "align_content": null,
            "align_items": null,
            "align_self": null,
            "border": null,
            "bottom": null,
            "display": null,
            "flex": null,
            "flex_flow": null,
            "grid_area": null,
            "grid_auto_columns": null,
            "grid_auto_flow": null,
            "grid_auto_rows": null,
            "grid_column": null,
            "grid_gap": null,
            "grid_row": null,
            "grid_template_areas": null,
            "grid_template_columns": null,
            "grid_template_rows": null,
            "height": null,
            "justify_content": null,
            "justify_items": null,
            "left": null,
            "margin": null,
            "max_height": null,
            "max_width": null,
            "min_height": null,
            "min_width": null,
            "object_fit": null,
            "object_position": null,
            "order": null,
            "overflow": null,
            "overflow_x": null,
            "overflow_y": null,
            "padding": null,
            "right": null,
            "top": null,
            "visibility": null,
            "width": null
          }
        },
        "a8016ec0b65a4aaaa7157a5cd984ed13": {
          "model_module": "@jupyter-widgets/base",
          "model_name": "LayoutModel",
          "model_module_version": "1.2.0",
          "state": {
            "_model_module": "@jupyter-widgets/base",
            "_model_module_version": "1.2.0",
            "_model_name": "LayoutModel",
            "_view_count": null,
            "_view_module": "@jupyter-widgets/base",
            "_view_module_version": "1.2.0",
            "_view_name": "LayoutView",
            "align_content": null,
            "align_items": null,
            "align_self": null,
            "border": null,
            "bottom": null,
            "display": null,
            "flex": null,
            "flex_flow": null,
            "grid_area": null,
            "grid_auto_columns": null,
            "grid_auto_flow": null,
            "grid_auto_rows": null,
            "grid_column": null,
            "grid_gap": null,
            "grid_row": null,
            "grid_template_areas": null,
            "grid_template_columns": null,
            "grid_template_rows": null,
            "height": null,
            "justify_content": null,
            "justify_items": null,
            "left": null,
            "margin": null,
            "max_height": null,
            "max_width": null,
            "min_height": null,
            "min_width": null,
            "object_fit": null,
            "object_position": null,
            "order": null,
            "overflow": null,
            "overflow_x": null,
            "overflow_y": null,
            "padding": null,
            "right": null,
            "top": null,
            "visibility": null,
            "width": null
          }
        },
        "cebde4abffb1445cb1bedd21f4a60cf4": {
          "model_module": "@jupyter-widgets/controls",
          "model_name": "DescriptionStyleModel",
          "model_module_version": "1.5.0",
          "state": {
            "_model_module": "@jupyter-widgets/controls",
            "_model_module_version": "1.5.0",
            "_model_name": "DescriptionStyleModel",
            "_view_count": null,
            "_view_module": "@jupyter-widgets/base",
            "_view_module_version": "1.2.0",
            "_view_name": "StyleView",
            "description_width": ""
          }
        },
        "fc91d7559ec443e3bffce60a34d32dfc": {
          "model_module": "@jupyter-widgets/base",
          "model_name": "LayoutModel",
          "model_module_version": "1.2.0",
          "state": {
            "_model_module": "@jupyter-widgets/base",
            "_model_module_version": "1.2.0",
            "_model_name": "LayoutModel",
            "_view_count": null,
            "_view_module": "@jupyter-widgets/base",
            "_view_module_version": "1.2.0",
            "_view_name": "LayoutView",
            "align_content": null,
            "align_items": null,
            "align_self": null,
            "border": null,
            "bottom": null,
            "display": null,
            "flex": null,
            "flex_flow": null,
            "grid_area": null,
            "grid_auto_columns": null,
            "grid_auto_flow": null,
            "grid_auto_rows": null,
            "grid_column": null,
            "grid_gap": null,
            "grid_row": null,
            "grid_template_areas": null,
            "grid_template_columns": null,
            "grid_template_rows": null,
            "height": null,
            "justify_content": null,
            "justify_items": null,
            "left": null,
            "margin": null,
            "max_height": null,
            "max_width": null,
            "min_height": null,
            "min_width": null,
            "object_fit": null,
            "object_position": null,
            "order": null,
            "overflow": null,
            "overflow_x": null,
            "overflow_y": null,
            "padding": null,
            "right": null,
            "top": null,
            "visibility": null,
            "width": null
          }
        },
        "452ea9eae4ef4fbbaf5124b1fac3a3fd": {
          "model_module": "@jupyter-widgets/controls",
          "model_name": "ProgressStyleModel",
          "model_module_version": "1.5.0",
          "state": {
            "_model_module": "@jupyter-widgets/controls",
            "_model_module_version": "1.5.0",
            "_model_name": "ProgressStyleModel",
            "_view_count": null,
            "_view_module": "@jupyter-widgets/base",
            "_view_module_version": "1.2.0",
            "_view_name": "StyleView",
            "bar_color": null,
            "description_width": ""
          }
        },
        "aa1033e4a5b74fd99d3f286a428bb281": {
          "model_module": "@jupyter-widgets/base",
          "model_name": "LayoutModel",
          "model_module_version": "1.2.0",
          "state": {
            "_model_module": "@jupyter-widgets/base",
            "_model_module_version": "1.2.0",
            "_model_name": "LayoutModel",
            "_view_count": null,
            "_view_module": "@jupyter-widgets/base",
            "_view_module_version": "1.2.0",
            "_view_name": "LayoutView",
            "align_content": null,
            "align_items": null,
            "align_self": null,
            "border": null,
            "bottom": null,
            "display": null,
            "flex": null,
            "flex_flow": null,
            "grid_area": null,
            "grid_auto_columns": null,
            "grid_auto_flow": null,
            "grid_auto_rows": null,
            "grid_column": null,
            "grid_gap": null,
            "grid_row": null,
            "grid_template_areas": null,
            "grid_template_columns": null,
            "grid_template_rows": null,
            "height": null,
            "justify_content": null,
            "justify_items": null,
            "left": null,
            "margin": null,
            "max_height": null,
            "max_width": null,
            "min_height": null,
            "min_width": null,
            "object_fit": null,
            "object_position": null,
            "order": null,
            "overflow": null,
            "overflow_x": null,
            "overflow_y": null,
            "padding": null,
            "right": null,
            "top": null,
            "visibility": null,
            "width": null
          }
        },
        "b4351fe6585d48c3b798ae873ebb1660": {
          "model_module": "@jupyter-widgets/controls",
          "model_name": "DescriptionStyleModel",
          "model_module_version": "1.5.0",
          "state": {
            "_model_module": "@jupyter-widgets/controls",
            "_model_module_version": "1.5.0",
            "_model_name": "DescriptionStyleModel",
            "_view_count": null,
            "_view_module": "@jupyter-widgets/base",
            "_view_module_version": "1.2.0",
            "_view_name": "StyleView",
            "description_width": ""
          }
        }
      }
    }
  },
  "cells": [
    {
      "cell_type": "code",
      "execution_count": 1,
      "metadata": {
        "colab": {
          "base_uri": "https://localhost:8080/"
        },
        "id": "Gz3c4RsD5bFq",
        "outputId": "4b7e828a-4ee6-4715-d2f4-c43f3476cc55"
      },
      "outputs": [
        {
          "output_type": "stream",
          "name": "stdout",
          "text": [
            "Requirement already satisfied: datasets in /usr/local/lib/python3.11/dist-packages (4.0.0)\n",
            "Requirement already satisfied: scikit-learn in /usr/local/lib/python3.11/dist-packages (1.6.1)\n",
            "Requirement already satisfied: xgboost in /usr/local/lib/python3.11/dist-packages (3.0.4)\n",
            "Requirement already satisfied: filelock in /usr/local/lib/python3.11/dist-packages (from datasets) (3.18.0)\n",
            "Requirement already satisfied: numpy>=1.17 in /usr/local/lib/python3.11/dist-packages (from datasets) (2.0.2)\n",
            "Requirement already satisfied: pyarrow>=15.0.0 in /usr/local/lib/python3.11/dist-packages (from datasets) (18.1.0)\n",
            "Requirement already satisfied: dill<0.3.9,>=0.3.0 in /usr/local/lib/python3.11/dist-packages (from datasets) (0.3.8)\n",
            "Requirement already satisfied: pandas in /usr/local/lib/python3.11/dist-packages (from datasets) (2.2.2)\n",
            "Requirement already satisfied: requests>=2.32.2 in /usr/local/lib/python3.11/dist-packages (from datasets) (2.32.3)\n",
            "Requirement already satisfied: tqdm>=4.66.3 in /usr/local/lib/python3.11/dist-packages (from datasets) (4.67.1)\n",
            "Requirement already satisfied: xxhash in /usr/local/lib/python3.11/dist-packages (from datasets) (3.5.0)\n",
            "Requirement already satisfied: multiprocess<0.70.17 in /usr/local/lib/python3.11/dist-packages (from datasets) (0.70.16)\n",
            "Requirement already satisfied: fsspec<=2025.3.0,>=2023.1.0 in /usr/local/lib/python3.11/dist-packages (from fsspec[http]<=2025.3.0,>=2023.1.0->datasets) (2025.3.0)\n",
            "Requirement already satisfied: huggingface-hub>=0.24.0 in /usr/local/lib/python3.11/dist-packages (from datasets) (0.34.4)\n",
            "Requirement already satisfied: packaging in /usr/local/lib/python3.11/dist-packages (from datasets) (25.0)\n",
            "Requirement already satisfied: pyyaml>=5.1 in /usr/local/lib/python3.11/dist-packages (from datasets) (6.0.2)\n",
            "Requirement already satisfied: scipy>=1.6.0 in /usr/local/lib/python3.11/dist-packages (from scikit-learn) (1.16.1)\n",
            "Requirement already satisfied: joblib>=1.2.0 in /usr/local/lib/python3.11/dist-packages (from scikit-learn) (1.5.1)\n",
            "Requirement already satisfied: threadpoolctl>=3.1.0 in /usr/local/lib/python3.11/dist-packages (from scikit-learn) (3.6.0)\n",
            "Requirement already satisfied: nvidia-nccl-cu12 in /usr/local/lib/python3.11/dist-packages (from xgboost) (2.23.4)\n",
            "Requirement already satisfied: aiohttp!=4.0.0a0,!=4.0.0a1 in /usr/local/lib/python3.11/dist-packages (from fsspec[http]<=2025.3.0,>=2023.1.0->datasets) (3.12.15)\n",
            "Requirement already satisfied: typing-extensions>=3.7.4.3 in /usr/local/lib/python3.11/dist-packages (from huggingface-hub>=0.24.0->datasets) (4.14.1)\n",
            "Requirement already satisfied: hf-xet<2.0.0,>=1.1.3 in /usr/local/lib/python3.11/dist-packages (from huggingface-hub>=0.24.0->datasets) (1.1.7)\n",
            "Requirement already satisfied: charset-normalizer<4,>=2 in /usr/local/lib/python3.11/dist-packages (from requests>=2.32.2->datasets) (3.4.3)\n",
            "Requirement already satisfied: idna<4,>=2.5 in /usr/local/lib/python3.11/dist-packages (from requests>=2.32.2->datasets) (3.10)\n",
            "Requirement already satisfied: urllib3<3,>=1.21.1 in /usr/local/lib/python3.11/dist-packages (from requests>=2.32.2->datasets) (2.5.0)\n",
            "Requirement already satisfied: certifi>=2017.4.17 in /usr/local/lib/python3.11/dist-packages (from requests>=2.32.2->datasets) (2025.8.3)\n",
            "Requirement already satisfied: python-dateutil>=2.8.2 in /usr/local/lib/python3.11/dist-packages (from pandas->datasets) (2.9.0.post0)\n",
            "Requirement already satisfied: pytz>=2020.1 in /usr/local/lib/python3.11/dist-packages (from pandas->datasets) (2025.2)\n",
            "Requirement already satisfied: tzdata>=2022.7 in /usr/local/lib/python3.11/dist-packages (from pandas->datasets) (2025.2)\n",
            "Requirement already satisfied: aiohappyeyeballs>=2.5.0 in /usr/local/lib/python3.11/dist-packages (from aiohttp!=4.0.0a0,!=4.0.0a1->fsspec[http]<=2025.3.0,>=2023.1.0->datasets) (2.6.1)\n",
            "Requirement already satisfied: aiosignal>=1.4.0 in /usr/local/lib/python3.11/dist-packages (from aiohttp!=4.0.0a0,!=4.0.0a1->fsspec[http]<=2025.3.0,>=2023.1.0->datasets) (1.4.0)\n",
            "Requirement already satisfied: attrs>=17.3.0 in /usr/local/lib/python3.11/dist-packages (from aiohttp!=4.0.0a0,!=4.0.0a1->fsspec[http]<=2025.3.0,>=2023.1.0->datasets) (25.3.0)\n",
            "Requirement already satisfied: frozenlist>=1.1.1 in /usr/local/lib/python3.11/dist-packages (from aiohttp!=4.0.0a0,!=4.0.0a1->fsspec[http]<=2025.3.0,>=2023.1.0->datasets) (1.7.0)\n",
            "Requirement already satisfied: multidict<7.0,>=4.5 in /usr/local/lib/python3.11/dist-packages (from aiohttp!=4.0.0a0,!=4.0.0a1->fsspec[http]<=2025.3.0,>=2023.1.0->datasets) (6.6.4)\n",
            "Requirement already satisfied: propcache>=0.2.0 in /usr/local/lib/python3.11/dist-packages (from aiohttp!=4.0.0a0,!=4.0.0a1->fsspec[http]<=2025.3.0,>=2023.1.0->datasets) (0.3.2)\n",
            "Requirement already satisfied: yarl<2.0,>=1.17.0 in /usr/local/lib/python3.11/dist-packages (from aiohttp!=4.0.0a0,!=4.0.0a1->fsspec[http]<=2025.3.0,>=2023.1.0->datasets) (1.20.1)\n",
            "Requirement already satisfied: six>=1.5 in /usr/local/lib/python3.11/dist-packages (from python-dateutil>=2.8.2->pandas->datasets) (1.17.0)\n"
          ]
        }
      ],
      "source": [
        "!pip install datasets scikit-learn xgboost\n"
      ]
    },
    {
      "cell_type": "markdown",
      "source": [
        "#  Imports and random seed"
      ],
      "metadata": {
        "id": "tramVup4B05J"
      }
    },
    {
      "cell_type": "code",
      "source": [
        "import numpy as np, pandas as pd\n",
        "from datasets import load_dataset\n",
        "from sklearn.model_selection import train_test_split, StratifiedKFold, GridSearchCV\n",
        "from sklearn.preprocessing import StandardScaler\n",
        "from sklearn.pipeline import Pipeline\n",
        "from sklearn.metrics import accuracy_score, precision_recall_fscore_support, confusion_matrix, classification_report\n",
        "from sklearn.svm import SVC\n",
        "from sklearn.tree import DecisionTreeClassifier\n",
        "from sklearn.ensemble import RandomForestClassifier\n",
        "from xgboost import XGBClassifier\n",
        "from sklearn.neighbors import KNeighborsClassifier\n",
        "from sklearn.linear_model import LogisticRegression\n",
        "\n",
        "np.random.seed(42)\n"
      ],
      "metadata": {
        "id": "Ckh6f8J3BkxW"
      },
      "execution_count": 2,
      "outputs": []
    },
    {
      "cell_type": "markdown",
      "source": [
        "Load the Diabetes dataset and preview"
      ],
      "metadata": {
        "id": "vUuveF-rCPzC"
      }
    },
    {
      "cell_type": "code",
      "source": [
        "ds = load_dataset(\"weeebdev/diabetes\")\n",
        "df = pd.DataFrame(ds[\"train\"])\n",
        "df.shape, df.head()\n"
      ],
      "metadata": {
        "colab": {
          "base_uri": "https://localhost:8080/",
          "height": 934,
          "referenced_widgets": [
            "455a0802506948ac84f75c01ca528f12",
            "a388cc5fd262490bb11c777f32b1f295",
            "8adff288dcdb41528f737bfd9394e342",
            "e9efecfc62a541809e2becb50db48950",
            "a4da4da0deb44ae49caaf42cfa7d0b02",
            "5ecc3ac24b524bb1aa0d4c694cf537e5",
            "a15847b51d784d7aaa4f33471c031272",
            "bdaa69b6b1904a4fbe3f0011efc40a50",
            "a0ee0e4081af4ff7a28245bd0d156f9c",
            "593e7203579b49eaa52c70c58ae8059a",
            "47d7565590ef46ef8ba7197e58074557",
            "e46d366c426e49e5ab49e2f316cc59fc",
            "192a17cafa034dfd8f73c48d302819e4",
            "38d18a6f58ff481ebc1e99700ec256fb",
            "c40fd5be05cf42ccab8f642f8b914207",
            "15dc076ca8ca4ae7b20526d937752838",
            "a8016ec0b65a4aaaa7157a5cd984ed13",
            "cebde4abffb1445cb1bedd21f4a60cf4",
            "fc91d7559ec443e3bffce60a34d32dfc",
            "452ea9eae4ef4fbbaf5124b1fac3a3fd",
            "aa1033e4a5b74fd99d3f286a428bb281",
            "b4351fe6585d48c3b798ae873ebb1660"
          ]
        },
        "id": "KL1kX9A4CRXx",
        "outputId": "84c2d288-b365-4d4b-a59e-07b69fe45280"
      },
      "execution_count": 4,
      "outputs": [
        {
          "output_type": "stream",
          "name": "stderr",
          "text": [
            "/usr/local/lib/python3.11/dist-packages/huggingface_hub/utils/_auth.py:94: UserWarning: \n",
            "The secret `HF_TOKEN` does not exist in your Colab secrets.\n",
            "To authenticate with the Hugging Face Hub, create a token in your settings tab (https://huggingface.co/settings/tokens), set it as secret in your Google Colab and restart your session.\n",
            "You will be able to reuse this secret in all of your notebooks.\n",
            "Please note that authentication is recommended but still optional to access public models or datasets.\n",
            "  warnings.warn(\n"
          ]
        },
        {
          "output_type": "display_data",
          "data": {
            "text/plain": [
              "diabetes.csv: 0.00B [00:00, ?B/s]"
            ],
            "application/vnd.jupyter.widget-view+json": {
              "version_major": 2,
              "version_minor": 0,
              "model_id": "455a0802506948ac84f75c01ca528f12"
            }
          },
          "metadata": {}
        },
        {
          "output_type": "display_data",
          "data": {
            "text/plain": [
              "Generating train split:   0%|          | 0/768 [00:00<?, ? examples/s]"
            ],
            "application/vnd.jupyter.widget-view+json": {
              "version_major": 2,
              "version_minor": 0,
              "model_id": "e46d366c426e49e5ab49e2f316cc59fc"
            }
          },
          "metadata": {}
        },
        {
          "output_type": "execute_result",
          "data": {
            "text/plain": [
              "((768, 9),\n",
              "    Number of times pregnant  \\\n",
              " 0                         6   \n",
              " 1                         1   \n",
              " 2                         8   \n",
              " 3                         1   \n",
              " 4                         0   \n",
              " \n",
              "    Plasma glucose concentration a 2 hours in an oral glucose tolerance test  \\\n",
              " 0                                                148                          \n",
              " 1                                                 85                          \n",
              " 2                                                183                          \n",
              " 3                                                 89                          \n",
              " 4                                                137                          \n",
              " \n",
              "    Diastolic blood pressure (mm Hg)  Triceps skin fold thickness (mm)  \\\n",
              " 0                                72                                35   \n",
              " 1                                66                                29   \n",
              " 2                                64                                 0   \n",
              " 3                                66                                23   \n",
              " 4                                40                                35   \n",
              " \n",
              "    2-Hour serum insulin (mu U/ml)  \\\n",
              " 0                               0   \n",
              " 1                               0   \n",
              " 2                               0   \n",
              " 3                              94   \n",
              " 4                             168   \n",
              " \n",
              "    Body mass index (weight in kg/(height in m)^2)  Diabetes pedigree function  \\\n",
              " 0                                            33.6                       0.627   \n",
              " 1                                            26.6                       0.351   \n",
              " 2                                            23.3                       0.672   \n",
              " 3                                            28.1                       0.167   \n",
              " 4                                            43.1                       2.288   \n",
              " \n",
              "    Age (years)  Class variable  \n",
              " 0           50               1  \n",
              " 1           31               0  \n",
              " 2           32               1  \n",
              " 3           21               0  \n",
              " 4           33               1  )"
            ]
          },
          "metadata": {},
          "execution_count": 4
        }
      ]
    },
    {
      "cell_type": "markdown",
      "source": [
        "Basic inspection"
      ],
      "metadata": {
        "id": "lj9CuLncD2VT"
      }
    },
    {
      "cell_type": "code",
      "source": [
        "df.info()\n",
        "df.isna().sum()\n",
        "df[\"Class variable\"].value_counts(), df[\"Class variable\"].value_counts(normalize=True).round(3)\n",
        "df.describe().T\n"
      ],
      "metadata": {
        "colab": {
          "base_uri": "https://localhost:8080/",
          "height": 609
        },
        "id": "7-R6dXROEHyU",
        "outputId": "41510f6e-f574-4149-f748-356da76d7e89"
      },
      "execution_count": 5,
      "outputs": [
        {
          "output_type": "stream",
          "name": "stdout",
          "text": [
            "<class 'pandas.core.frame.DataFrame'>\n",
            "RangeIndex: 768 entries, 0 to 767\n",
            "Data columns (total 9 columns):\n",
            " #   Column                                                                    Non-Null Count  Dtype  \n",
            "---  ------                                                                    --------------  -----  \n",
            " 0   Number of times pregnant                                                  768 non-null    int64  \n",
            " 1   Plasma glucose concentration a 2 hours in an oral glucose tolerance test  768 non-null    int64  \n",
            " 2   Diastolic blood pressure (mm Hg)                                          768 non-null    int64  \n",
            " 3   Triceps skin fold thickness (mm)                                          768 non-null    int64  \n",
            " 4   2-Hour serum insulin (mu U/ml)                                            768 non-null    int64  \n",
            " 5   Body mass index (weight in kg/(height in m)^2)                            768 non-null    float64\n",
            " 6   Diabetes pedigree function                                                768 non-null    float64\n",
            " 7   Age (years)                                                               768 non-null    int64  \n",
            " 8   Class variable                                                            768 non-null    int64  \n",
            "dtypes: float64(2), int64(7)\n",
            "memory usage: 54.1 KB\n"
          ]
        },
        {
          "output_type": "execute_result",
          "data": {
            "text/plain": [
              "                                                    count        mean  \\\n",
              "Number of times pregnant                            768.0    3.845052   \n",
              "Plasma glucose concentration a 2 hours in an or...  768.0  120.894531   \n",
              "Diastolic blood pressure (mm Hg)                    768.0   69.105469   \n",
              "Triceps skin fold thickness (mm)                    768.0   20.536458   \n",
              "2-Hour serum insulin (mu U/ml)                      768.0   79.799479   \n",
              "Body mass index (weight in kg/(height in m)^2)      768.0   31.992578   \n",
              "Diabetes pedigree function                          768.0    0.471876   \n",
              "Age (years)                                         768.0   33.240885   \n",
              "Class variable                                      768.0    0.348958   \n",
              "\n",
              "                                                           std     min  \\\n",
              "Number of times pregnant                              3.369578   0.000   \n",
              "Plasma glucose concentration a 2 hours in an or...   31.972618   0.000   \n",
              "Diastolic blood pressure (mm Hg)                     19.355807   0.000   \n",
              "Triceps skin fold thickness (mm)                     15.952218   0.000   \n",
              "2-Hour serum insulin (mu U/ml)                      115.244002   0.000   \n",
              "Body mass index (weight in kg/(height in m)^2)        7.884160   0.000   \n",
              "Diabetes pedigree function                            0.331329   0.078   \n",
              "Age (years)                                          11.760232  21.000   \n",
              "Class variable                                        0.476951   0.000   \n",
              "\n",
              "                                                         25%       50%  \\\n",
              "Number of times pregnant                             1.00000    3.0000   \n",
              "Plasma glucose concentration a 2 hours in an or...  99.00000  117.0000   \n",
              "Diastolic blood pressure (mm Hg)                    62.00000   72.0000   \n",
              "Triceps skin fold thickness (mm)                     0.00000   23.0000   \n",
              "2-Hour serum insulin (mu U/ml)                       0.00000   30.5000   \n",
              "Body mass index (weight in kg/(height in m)^2)      27.30000   32.0000   \n",
              "Diabetes pedigree function                           0.24375    0.3725   \n",
              "Age (years)                                         24.00000   29.0000   \n",
              "Class variable                                       0.00000    0.0000   \n",
              "\n",
              "                                                          75%     max  \n",
              "Number of times pregnant                              6.00000   17.00  \n",
              "Plasma glucose concentration a 2 hours in an or...  140.25000  199.00  \n",
              "Diastolic blood pressure (mm Hg)                     80.00000  122.00  \n",
              "Triceps skin fold thickness (mm)                     32.00000   99.00  \n",
              "2-Hour serum insulin (mu U/ml)                      127.25000  846.00  \n",
              "Body mass index (weight in kg/(height in m)^2)       36.60000   67.10  \n",
              "Diabetes pedigree function                            0.62625    2.42  \n",
              "Age (years)                                          41.00000   81.00  \n",
              "Class variable                                        1.00000    1.00  "
            ],
            "text/html": [
              "\n",
              "  <div id=\"df-9db66488-55d8-4e13-8f9b-cd3409b1df9f\" class=\"colab-df-container\">\n",
              "    <div>\n",
              "<style scoped>\n",
              "    .dataframe tbody tr th:only-of-type {\n",
              "        vertical-align: middle;\n",
              "    }\n",
              "\n",
              "    .dataframe tbody tr th {\n",
              "        vertical-align: top;\n",
              "    }\n",
              "\n",
              "    .dataframe thead th {\n",
              "        text-align: right;\n",
              "    }\n",
              "</style>\n",
              "<table border=\"1\" class=\"dataframe\">\n",
              "  <thead>\n",
              "    <tr style=\"text-align: right;\">\n",
              "      <th></th>\n",
              "      <th>count</th>\n",
              "      <th>mean</th>\n",
              "      <th>std</th>\n",
              "      <th>min</th>\n",
              "      <th>25%</th>\n",
              "      <th>50%</th>\n",
              "      <th>75%</th>\n",
              "      <th>max</th>\n",
              "    </tr>\n",
              "  </thead>\n",
              "  <tbody>\n",
              "    <tr>\n",
              "      <th>Number of times pregnant</th>\n",
              "      <td>768.0</td>\n",
              "      <td>3.845052</td>\n",
              "      <td>3.369578</td>\n",
              "      <td>0.000</td>\n",
              "      <td>1.00000</td>\n",
              "      <td>3.0000</td>\n",
              "      <td>6.00000</td>\n",
              "      <td>17.00</td>\n",
              "    </tr>\n",
              "    <tr>\n",
              "      <th>Plasma glucose concentration a 2 hours in an oral glucose tolerance test</th>\n",
              "      <td>768.0</td>\n",
              "      <td>120.894531</td>\n",
              "      <td>31.972618</td>\n",
              "      <td>0.000</td>\n",
              "      <td>99.00000</td>\n",
              "      <td>117.0000</td>\n",
              "      <td>140.25000</td>\n",
              "      <td>199.00</td>\n",
              "    </tr>\n",
              "    <tr>\n",
              "      <th>Diastolic blood pressure (mm Hg)</th>\n",
              "      <td>768.0</td>\n",
              "      <td>69.105469</td>\n",
              "      <td>19.355807</td>\n",
              "      <td>0.000</td>\n",
              "      <td>62.00000</td>\n",
              "      <td>72.0000</td>\n",
              "      <td>80.00000</td>\n",
              "      <td>122.00</td>\n",
              "    </tr>\n",
              "    <tr>\n",
              "      <th>Triceps skin fold thickness (mm)</th>\n",
              "      <td>768.0</td>\n",
              "      <td>20.536458</td>\n",
              "      <td>15.952218</td>\n",
              "      <td>0.000</td>\n",
              "      <td>0.00000</td>\n",
              "      <td>23.0000</td>\n",
              "      <td>32.00000</td>\n",
              "      <td>99.00</td>\n",
              "    </tr>\n",
              "    <tr>\n",
              "      <th>2-Hour serum insulin (mu U/ml)</th>\n",
              "      <td>768.0</td>\n",
              "      <td>79.799479</td>\n",
              "      <td>115.244002</td>\n",
              "      <td>0.000</td>\n",
              "      <td>0.00000</td>\n",
              "      <td>30.5000</td>\n",
              "      <td>127.25000</td>\n",
              "      <td>846.00</td>\n",
              "    </tr>\n",
              "    <tr>\n",
              "      <th>Body mass index (weight in kg/(height in m)^2)</th>\n",
              "      <td>768.0</td>\n",
              "      <td>31.992578</td>\n",
              "      <td>7.884160</td>\n",
              "      <td>0.000</td>\n",
              "      <td>27.30000</td>\n",
              "      <td>32.0000</td>\n",
              "      <td>36.60000</td>\n",
              "      <td>67.10</td>\n",
              "    </tr>\n",
              "    <tr>\n",
              "      <th>Diabetes pedigree function</th>\n",
              "      <td>768.0</td>\n",
              "      <td>0.471876</td>\n",
              "      <td>0.331329</td>\n",
              "      <td>0.078</td>\n",
              "      <td>0.24375</td>\n",
              "      <td>0.3725</td>\n",
              "      <td>0.62625</td>\n",
              "      <td>2.42</td>\n",
              "    </tr>\n",
              "    <tr>\n",
              "      <th>Age (years)</th>\n",
              "      <td>768.0</td>\n",
              "      <td>33.240885</td>\n",
              "      <td>11.760232</td>\n",
              "      <td>21.000</td>\n",
              "      <td>24.00000</td>\n",
              "      <td>29.0000</td>\n",
              "      <td>41.00000</td>\n",
              "      <td>81.00</td>\n",
              "    </tr>\n",
              "    <tr>\n",
              "      <th>Class variable</th>\n",
              "      <td>768.0</td>\n",
              "      <td>0.348958</td>\n",
              "      <td>0.476951</td>\n",
              "      <td>0.000</td>\n",
              "      <td>0.00000</td>\n",
              "      <td>0.0000</td>\n",
              "      <td>1.00000</td>\n",
              "      <td>1.00</td>\n",
              "    </tr>\n",
              "  </tbody>\n",
              "</table>\n",
              "</div>\n",
              "    <div class=\"colab-df-buttons\">\n",
              "\n",
              "  <div class=\"colab-df-container\">\n",
              "    <button class=\"colab-df-convert\" onclick=\"convertToInteractive('df-9db66488-55d8-4e13-8f9b-cd3409b1df9f')\"\n",
              "            title=\"Convert this dataframe to an interactive table.\"\n",
              "            style=\"display:none;\">\n",
              "\n",
              "  <svg xmlns=\"http://www.w3.org/2000/svg\" height=\"24px\" viewBox=\"0 -960 960 960\">\n",
              "    <path d=\"M120-120v-720h720v720H120Zm60-500h600v-160H180v160Zm220 220h160v-160H400v160Zm0 220h160v-160H400v160ZM180-400h160v-160H180v160Zm440 0h160v-160H620v160ZM180-180h160v-160H180v160Zm440 0h160v-160H620v160Z\"/>\n",
              "  </svg>\n",
              "    </button>\n",
              "\n",
              "  <style>\n",
              "    .colab-df-container {\n",
              "      display:flex;\n",
              "      gap: 12px;\n",
              "    }\n",
              "\n",
              "    .colab-df-convert {\n",
              "      background-color: #E8F0FE;\n",
              "      border: none;\n",
              "      border-radius: 50%;\n",
              "      cursor: pointer;\n",
              "      display: none;\n",
              "      fill: #1967D2;\n",
              "      height: 32px;\n",
              "      padding: 0 0 0 0;\n",
              "      width: 32px;\n",
              "    }\n",
              "\n",
              "    .colab-df-convert:hover {\n",
              "      background-color: #E2EBFA;\n",
              "      box-shadow: 0px 1px 2px rgba(60, 64, 67, 0.3), 0px 1px 3px 1px rgba(60, 64, 67, 0.15);\n",
              "      fill: #174EA6;\n",
              "    }\n",
              "\n",
              "    .colab-df-buttons div {\n",
              "      margin-bottom: 4px;\n",
              "    }\n",
              "\n",
              "    [theme=dark] .colab-df-convert {\n",
              "      background-color: #3B4455;\n",
              "      fill: #D2E3FC;\n",
              "    }\n",
              "\n",
              "    [theme=dark] .colab-df-convert:hover {\n",
              "      background-color: #434B5C;\n",
              "      box-shadow: 0px 1px 3px 1px rgba(0, 0, 0, 0.15);\n",
              "      filter: drop-shadow(0px 1px 2px rgba(0, 0, 0, 0.3));\n",
              "      fill: #FFFFFF;\n",
              "    }\n",
              "  </style>\n",
              "\n",
              "    <script>\n",
              "      const buttonEl =\n",
              "        document.querySelector('#df-9db66488-55d8-4e13-8f9b-cd3409b1df9f button.colab-df-convert');\n",
              "      buttonEl.style.display =\n",
              "        google.colab.kernel.accessAllowed ? 'block' : 'none';\n",
              "\n",
              "      async function convertToInteractive(key) {\n",
              "        const element = document.querySelector('#df-9db66488-55d8-4e13-8f9b-cd3409b1df9f');\n",
              "        const dataTable =\n",
              "          await google.colab.kernel.invokeFunction('convertToInteractive',\n",
              "                                                    [key], {});\n",
              "        if (!dataTable) return;\n",
              "\n",
              "        const docLinkHtml = 'Like what you see? Visit the ' +\n",
              "          '<a target=\"_blank\" href=https://colab.research.google.com/notebooks/data_table.ipynb>data table notebook</a>'\n",
              "          + ' to learn more about interactive tables.';\n",
              "        element.innerHTML = '';\n",
              "        dataTable['output_type'] = 'display_data';\n",
              "        await google.colab.output.renderOutput(dataTable, element);\n",
              "        const docLink = document.createElement('div');\n",
              "        docLink.innerHTML = docLinkHtml;\n",
              "        element.appendChild(docLink);\n",
              "      }\n",
              "    </script>\n",
              "  </div>\n",
              "\n",
              "\n",
              "    <div id=\"df-a6fb6f2d-451c-4629-b991-f256d420ce51\">\n",
              "      <button class=\"colab-df-quickchart\" onclick=\"quickchart('df-a6fb6f2d-451c-4629-b991-f256d420ce51')\"\n",
              "                title=\"Suggest charts\"\n",
              "                style=\"display:none;\">\n",
              "\n",
              "<svg xmlns=\"http://www.w3.org/2000/svg\" height=\"24px\"viewBox=\"0 0 24 24\"\n",
              "     width=\"24px\">\n",
              "    <g>\n",
              "        <path d=\"M19 3H5c-1.1 0-2 .9-2 2v14c0 1.1.9 2 2 2h14c1.1 0 2-.9 2-2V5c0-1.1-.9-2-2-2zM9 17H7v-7h2v7zm4 0h-2V7h2v10zm4 0h-2v-4h2v4z\"/>\n",
              "    </g>\n",
              "</svg>\n",
              "      </button>\n",
              "\n",
              "<style>\n",
              "  .colab-df-quickchart {\n",
              "      --bg-color: #E8F0FE;\n",
              "      --fill-color: #1967D2;\n",
              "      --hover-bg-color: #E2EBFA;\n",
              "      --hover-fill-color: #174EA6;\n",
              "      --disabled-fill-color: #AAA;\n",
              "      --disabled-bg-color: #DDD;\n",
              "  }\n",
              "\n",
              "  [theme=dark] .colab-df-quickchart {\n",
              "      --bg-color: #3B4455;\n",
              "      --fill-color: #D2E3FC;\n",
              "      --hover-bg-color: #434B5C;\n",
              "      --hover-fill-color: #FFFFFF;\n",
              "      --disabled-bg-color: #3B4455;\n",
              "      --disabled-fill-color: #666;\n",
              "  }\n",
              "\n",
              "  .colab-df-quickchart {\n",
              "    background-color: var(--bg-color);\n",
              "    border: none;\n",
              "    border-radius: 50%;\n",
              "    cursor: pointer;\n",
              "    display: none;\n",
              "    fill: var(--fill-color);\n",
              "    height: 32px;\n",
              "    padding: 0;\n",
              "    width: 32px;\n",
              "  }\n",
              "\n",
              "  .colab-df-quickchart:hover {\n",
              "    background-color: var(--hover-bg-color);\n",
              "    box-shadow: 0 1px 2px rgba(60, 64, 67, 0.3), 0 1px 3px 1px rgba(60, 64, 67, 0.15);\n",
              "    fill: var(--button-hover-fill-color);\n",
              "  }\n",
              "\n",
              "  .colab-df-quickchart-complete:disabled,\n",
              "  .colab-df-quickchart-complete:disabled:hover {\n",
              "    background-color: var(--disabled-bg-color);\n",
              "    fill: var(--disabled-fill-color);\n",
              "    box-shadow: none;\n",
              "  }\n",
              "\n",
              "  .colab-df-spinner {\n",
              "    border: 2px solid var(--fill-color);\n",
              "    border-color: transparent;\n",
              "    border-bottom-color: var(--fill-color);\n",
              "    animation:\n",
              "      spin 1s steps(1) infinite;\n",
              "  }\n",
              "\n",
              "  @keyframes spin {\n",
              "    0% {\n",
              "      border-color: transparent;\n",
              "      border-bottom-color: var(--fill-color);\n",
              "      border-left-color: var(--fill-color);\n",
              "    }\n",
              "    20% {\n",
              "      border-color: transparent;\n",
              "      border-left-color: var(--fill-color);\n",
              "      border-top-color: var(--fill-color);\n",
              "    }\n",
              "    30% {\n",
              "      border-color: transparent;\n",
              "      border-left-color: var(--fill-color);\n",
              "      border-top-color: var(--fill-color);\n",
              "      border-right-color: var(--fill-color);\n",
              "    }\n",
              "    40% {\n",
              "      border-color: transparent;\n",
              "      border-right-color: var(--fill-color);\n",
              "      border-top-color: var(--fill-color);\n",
              "    }\n",
              "    60% {\n",
              "      border-color: transparent;\n",
              "      border-right-color: var(--fill-color);\n",
              "    }\n",
              "    80% {\n",
              "      border-color: transparent;\n",
              "      border-right-color: var(--fill-color);\n",
              "      border-bottom-color: var(--fill-color);\n",
              "    }\n",
              "    90% {\n",
              "      border-color: transparent;\n",
              "      border-bottom-color: var(--fill-color);\n",
              "    }\n",
              "  }\n",
              "</style>\n",
              "\n",
              "      <script>\n",
              "        async function quickchart(key) {\n",
              "          const quickchartButtonEl =\n",
              "            document.querySelector('#' + key + ' button');\n",
              "          quickchartButtonEl.disabled = true;  // To prevent multiple clicks.\n",
              "          quickchartButtonEl.classList.add('colab-df-spinner');\n",
              "          try {\n",
              "            const charts = await google.colab.kernel.invokeFunction(\n",
              "                'suggestCharts', [key], {});\n",
              "          } catch (error) {\n",
              "            console.error('Error during call to suggestCharts:', error);\n",
              "          }\n",
              "          quickchartButtonEl.classList.remove('colab-df-spinner');\n",
              "          quickchartButtonEl.classList.add('colab-df-quickchart-complete');\n",
              "        }\n",
              "        (() => {\n",
              "          let quickchartButtonEl =\n",
              "            document.querySelector('#df-a6fb6f2d-451c-4629-b991-f256d420ce51 button');\n",
              "          quickchartButtonEl.style.display =\n",
              "            google.colab.kernel.accessAllowed ? 'block' : 'none';\n",
              "        })();\n",
              "      </script>\n",
              "    </div>\n",
              "\n",
              "    </div>\n",
              "  </div>\n"
            ],
            "application/vnd.google.colaboratory.intrinsic+json": {
              "type": "dataframe",
              "summary": "{\n  \"name\": \"df\",\n  \"rows\": 9,\n  \"fields\": [\n    {\n      \"column\": \"count\",\n      \"properties\": {\n        \"dtype\": \"number\",\n        \"std\": 0.0,\n        \"min\": 768.0,\n        \"max\": 768.0,\n        \"num_unique_values\": 1,\n        \"samples\": [\n          768.0\n        ],\n        \"semantic_type\": \"\",\n        \"description\": \"\"\n      }\n    },\n    {\n      \"column\": \"mean\",\n      \"properties\": {\n        \"dtype\": \"number\",\n        \"std\": 41.69163241067674,\n        \"min\": 0.3489583333333333,\n        \"max\": 120.89453125,\n        \"num_unique_values\": 9,\n        \"samples\": [\n          33.240885416666664\n        ],\n        \"semantic_type\": \"\",\n        \"description\": \"\"\n      }\n    },\n    {\n      \"column\": \"std\",\n      \"properties\": {\n        \"dtype\": \"number\",\n        \"std\": 36.07925076113047,\n        \"min\": 0.33132859501277484,\n        \"max\": 115.24400235133837,\n        \"num_unique_values\": 9,\n        \"samples\": [\n          11.76023154067868\n        ],\n        \"semantic_type\": \"\",\n        \"description\": \"\"\n      }\n    },\n    {\n      \"column\": \"min\",\n      \"properties\": {\n        \"dtype\": \"number\",\n        \"std\": 6.996797553166735,\n        \"min\": 0.0,\n        \"max\": 21.0,\n        \"num_unique_values\": 3,\n        \"samples\": [\n          0.0\n        ],\n        \"semantic_type\": \"\",\n        \"description\": \"\"\n      }\n    },\n    {\n      \"column\": \"25%\",\n      \"properties\": {\n        \"dtype\": \"number\",\n        \"std\": 35.179146988130626,\n        \"min\": 0.0,\n        \"max\": 99.0,\n        \"num_unique_values\": 7,\n        \"samples\": [\n          1.0\n        ],\n        \"semantic_type\": \"\",\n        \"description\": \"\"\n      }\n    },\n    {\n      \"column\": \"50%\",\n      \"properties\": {\n        \"dtype\": \"number\",\n        \"std\": 38.3128147168513,\n        \"min\": 0.0,\n        \"max\": 117.0,\n        \"num_unique_values\": 9,\n        \"samples\": [\n          29.0\n        ],\n        \"semantic_type\": \"\",\n        \"description\": \"\"\n      }\n    },\n    {\n      \"column\": \"75%\",\n      \"properties\": {\n        \"dtype\": \"number\",\n        \"std\": 52.85340145451852,\n        \"min\": 0.62625,\n        \"max\": 140.25,\n        \"num_unique_values\": 9,\n        \"samples\": [\n          41.0\n        ],\n        \"semantic_type\": \"\",\n        \"description\": \"\"\n      }\n    },\n    {\n      \"column\": \"max\",\n      \"properties\": {\n        \"dtype\": \"number\",\n        \"std\": 265.2148962843361,\n        \"min\": 1.0,\n        \"max\": 846.0,\n        \"num_unique_values\": 9,\n        \"samples\": [\n          81.0\n        ],\n        \"semantic_type\": \"\",\n        \"description\": \"\"\n      }\n    }\n  ]\n}"
            }
          },
          "metadata": {},
          "execution_count": 5
        }
      ]
    },
    {
      "cell_type": "code",
      "source": [
        "import numpy as np\n",
        "\n",
        "# Columns where 0 should be considered missing\n",
        "cols_with_missing = [\n",
        "    'Plasma glucose concentration a 2 hours in an oral glucose tolerance test',\n",
        "    'Diastolic blood pressure (mm Hg)',\n",
        "    'Triceps skin fold thickness (mm)',\n",
        "    '2-Hour serum insulin (mu U/ml)',\n",
        "    'Body mass index (weight in kg/(height in m)^2)'\n",
        "]\n",
        "\n",
        "# Replace zeros with NaN\n",
        "df[cols_with_missing] = df[cols_with_missing].replace(0, np.nan)\n",
        "\n",
        "# Fill missing values with median of each column\n",
        "for col in cols_with_missing:\n",
        "    df[col] = df[col].fillna(df[col].median())\n",
        "\n",
        "# Check if any NaNs remain\n",
        "df[cols_with_missing].isnull().sum()\n"
      ],
      "metadata": {
        "colab": {
          "base_uri": "https://localhost:8080/",
          "height": 241
        },
        "id": "g57wyMWAHzH5",
        "outputId": "05d2bc43-51a9-4282-95dd-25262b93e95f"
      },
      "execution_count": 6,
      "outputs": [
        {
          "output_type": "execute_result",
          "data": {
            "text/plain": [
              "Plasma glucose concentration a 2 hours in an oral glucose tolerance test    0\n",
              "Diastolic blood pressure (mm Hg)                                            0\n",
              "Triceps skin fold thickness (mm)                                            0\n",
              "2-Hour serum insulin (mu U/ml)                                              0\n",
              "Body mass index (weight in kg/(height in m)^2)                              0\n",
              "dtype: int64"
            ],
            "text/html": [
              "<div>\n",
              "<style scoped>\n",
              "    .dataframe tbody tr th:only-of-type {\n",
              "        vertical-align: middle;\n",
              "    }\n",
              "\n",
              "    .dataframe tbody tr th {\n",
              "        vertical-align: top;\n",
              "    }\n",
              "\n",
              "    .dataframe thead th {\n",
              "        text-align: right;\n",
              "    }\n",
              "</style>\n",
              "<table border=\"1\" class=\"dataframe\">\n",
              "  <thead>\n",
              "    <tr style=\"text-align: right;\">\n",
              "      <th></th>\n",
              "      <th>0</th>\n",
              "    </tr>\n",
              "  </thead>\n",
              "  <tbody>\n",
              "    <tr>\n",
              "      <th>Plasma glucose concentration a 2 hours in an oral glucose tolerance test</th>\n",
              "      <td>0</td>\n",
              "    </tr>\n",
              "    <tr>\n",
              "      <th>Diastolic blood pressure (mm Hg)</th>\n",
              "      <td>0</td>\n",
              "    </tr>\n",
              "    <tr>\n",
              "      <th>Triceps skin fold thickness (mm)</th>\n",
              "      <td>0</td>\n",
              "    </tr>\n",
              "    <tr>\n",
              "      <th>2-Hour serum insulin (mu U/ml)</th>\n",
              "      <td>0</td>\n",
              "    </tr>\n",
              "    <tr>\n",
              "      <th>Body mass index (weight in kg/(height in m)^2)</th>\n",
              "      <td>0</td>\n",
              "    </tr>\n",
              "  </tbody>\n",
              "</table>\n",
              "</div><br><label><b>dtype:</b> int64</label>"
            ]
          },
          "metadata": {},
          "execution_count": 6
        }
      ]
    },
    {
      "cell_type": "markdown",
      "source": [
        "Set up features/target"
      ],
      "metadata": {
        "id": "87aEneZZI8zm"
      }
    },
    {
      "cell_type": "code",
      "source": [
        "y = df[\"Class variable\"].astype(int)\n",
        "X = df.drop(columns=[\"Class variable\"])\n",
        "X.shape, y.shape, y.value_counts().to_dict()\n"
      ],
      "metadata": {
        "colab": {
          "base_uri": "https://localhost:8080/"
        },
        "id": "tqitzkllI9pl",
        "outputId": "50d94fb1-2237-4031-8c2e-c48a493f4af0"
      },
      "execution_count": 7,
      "outputs": [
        {
          "output_type": "execute_result",
          "data": {
            "text/plain": [
              "((768, 8), (768,), {0: 500, 1: 268})"
            ]
          },
          "metadata": {},
          "execution_count": 7
        }
      ]
    },
    {
      "cell_type": "markdown",
      "source": [
        "Train/Validation/Test Split\n",
        "We split the dataset into:\n",
        "- 70% training\n",
        "- 15% validation\n",
        "- 15% test  \n",
        "We also define a StratifiedKFold object for cross-validation to preserve class balance.\n"
      ],
      "metadata": {
        "id": "ooiaLVp7JRyt"
      }
    },
    {
      "cell_type": "code",
      "source": [
        "from sklearn.model_selection import train_test_split, StratifiedKFold\n",
        "\n",
        "# 70% train, 30% temp\n",
        "X_train, X_temp, y_train, y_temp = train_test_split(\n",
        "    X, y, test_size=0.30, stratify=y, random_state=42\n",
        ")\n",
        "\n",
        "# Split temp into 50% validation, 50% test → 15% each\n",
        "X_valid, X_test, y_valid, y_test = train_test_split(\n",
        "    X_temp, y_temp, test_size=0.50, stratify=y_temp, random_state=42\n",
        ")\n",
        "\n",
        "# Define stratified 5-fold CV for later\n",
        "cv = StratifiedKFold(n_splits=5, shuffle=True, random_state=42)\n",
        "\n",
        "X_train.shape, X_valid.shape, X_test.shape\n",
        "\n"
      ],
      "metadata": {
        "colab": {
          "base_uri": "https://localhost:8080/"
        },
        "id": "q0m2C6EfJPW-",
        "outputId": "2990189a-10f6-4e65-ebc7-6a5b7e56366e"
      },
      "execution_count": 8,
      "outputs": [
        {
          "output_type": "execute_result",
          "data": {
            "text/plain": [
              "((537, 8), (115, 8), (116, 8))"
            ]
          },
          "metadata": {},
          "execution_count": 8
        }
      ]
    },
    {
      "cell_type": "markdown",
      "source": [
        "###  Feature Scaling\n",
        "We scale all numeric features using StandardScaler.\n",
        "The scaler is fit only on the training set to avoid data leakage.\n"
      ],
      "metadata": {
        "id": "t8W5FqIbJjpi"
      }
    },
    {
      "cell_type": "code",
      "source": [
        "from sklearn.preprocessing import StandardScaler\n",
        "\n",
        "scaler = StandardScaler()\n",
        "\n",
        "# Fit on training, transform all splits\n",
        "X_train_scaled = scaler.fit_transform(X_train)\n",
        "X_valid_scaled = scaler.transform(X_valid)\n",
        "X_test_scaled = scaler.transform(X_test)\n"
      ],
      "metadata": {
        "id": "6HN3sHC9Jpea"
      },
      "execution_count": 9,
      "outputs": []
    },
    {
      "cell_type": "markdown",
      "source": [
        "### Validation evaluation helper\n",
        "Compute accuracy, precision, recall, F1, and confusion matrix for any fitted model.\n"
      ],
      "metadata": {
        "id": "bKptSO4HKMLw"
      }
    },
    {
      "cell_type": "code",
      "source": [
        "import numpy as np\n",
        "import pandas as pd\n",
        "from sklearn.metrics import accuracy_score, precision_recall_fscore_support, confusion_matrix\n",
        "\n",
        "def eval_on_valid(name, model, Xv, yv):\n",
        "    yp = model.predict(Xv)\n",
        "    acc = accuracy_score(yv, yp)\n",
        "    pr, rc, f1, _ = precision_recall_fscore_support(yv, yp, average=\"binary\", zero_division=0)\n",
        "    cm = confusion_matrix(yv, yp)\n",
        "    return {\"model\": name, \"accuracy\": acc, \"precision\": pr, \"recall\": rc, \"f1\": f1, \"cm\": cm}\n"
      ],
      "metadata": {
        "id": "nGogT8ZAKPFS"
      },
      "execution_count": 11,
      "outputs": []
    },
    {
      "cell_type": "markdown",
      "source": [
        "### SVM (RBF) with small grid (uses scaled data)\n",
        "We use 5-fold Stratified CV on the training set, then evaluate once on the validation set.\n"
      ],
      "metadata": {
        "id": "D281Dd1-KUS5"
      }
    },
    {
      "cell_type": "code",
      "source": [
        "from sklearn.svm import SVC\n",
        "from sklearn.model_selection import GridSearchCV\n",
        "from sklearn.pipeline import Pipeline\n",
        "\n",
        "svm_rbf = Pipeline([(\"svc\", SVC())])\n",
        "svm_rbf_grid = {\"svc__kernel\":[\"rbf\"], \"svc__C\":[0.1,1,10], \"svc__gamma\":[\"scale\",\"auto\"]}\n",
        "\n",
        "svm_rbf_gs = GridSearchCV(svm_rbf, svm_rbf_grid, cv=cv, scoring=\"f1\", n_jobs=-1)\n",
        "svm_rbf_gs.fit(X_train_scaled, y_train)\n",
        "\n",
        "svm_rbf_res = eval_on_valid(\"svm_rbf\", svm_rbf_gs.best_estimator_, X_valid_scaled, y_valid)\n",
        "svm_rbf_res\n"
      ],
      "metadata": {
        "colab": {
          "base_uri": "https://localhost:8080/"
        },
        "id": "5Zt7yHXHKYMk",
        "outputId": "fa6b3ea1-6ed9-4388-d521-a0acb835e064"
      },
      "execution_count": 12,
      "outputs": [
        {
          "output_type": "execute_result",
          "data": {
            "text/plain": [
              "{'model': 'svm_rbf',\n",
              " 'accuracy': 0.7478260869565218,\n",
              " 'precision': 0.6571428571428571,\n",
              " 'recall': 0.575,\n",
              " 'f1': 0.6133333333333333,\n",
              " 'cm': array([[63, 12],\n",
              "        [17, 23]])}"
            ]
          },
          "metadata": {},
          "execution_count": 12
        }
      ]
    },
    {
      "cell_type": "markdown",
      "source": [
        "###  SVM (Linear, Poly, Sigmoid)\n",
        "Test other kernels with small hyperparameter grids.\n"
      ],
      "metadata": {
        "id": "e_VVaVVKKuPH"
      }
    },
    {
      "cell_type": "code",
      "source": [
        "svm_kernels = {\n",
        "    \"svm_linear\": {\"svc__kernel\": [\"linear\"], \"svc__C\": [0.1, 1, 10]},\n",
        "    \"svm_poly\": {\"svc__kernel\": [\"poly\"], \"svc__degree\": [2, 3], \"svc__C\": [0.1, 1]},\n",
        "    \"svm_sigmoid\": {\"svc__kernel\": [\"sigmoid\"], \"svc__C\": [0.1, 1, 10]}\n",
        "}\n",
        "\n",
        "svm_results = []\n",
        "for name, grid in svm_kernels.items():\n",
        "    model = Pipeline([(\"svc\", SVC())])\n",
        "    gs = GridSearchCV(model, grid, cv=cv, scoring=\"f1\", n_jobs=-1)\n",
        "    gs.fit(X_train_scaled, y_train)\n",
        "    res = eval_on_valid(name, gs.best_estimator_, X_valid_scaled, y_valid)\n",
        "    svm_results.append(res)\n",
        "\n",
        "svm_results\n"
      ],
      "metadata": {
        "colab": {
          "base_uri": "https://localhost:8080/"
        },
        "id": "0SICMq5kKwYx",
        "outputId": "139ac945-9044-4459-cfef-358b2bd66ede"
      },
      "execution_count": 13,
      "outputs": [
        {
          "output_type": "execute_result",
          "data": {
            "text/plain": [
              "[{'model': 'svm_linear',\n",
              "  'accuracy': 0.7043478260869566,\n",
              "  'precision': 0.5882352941176471,\n",
              "  'recall': 0.5,\n",
              "  'f1': 0.5405405405405406,\n",
              "  'cm': array([[61, 14],\n",
              "         [20, 20]])},\n",
              " {'model': 'svm_poly',\n",
              "  'accuracy': 0.7130434782608696,\n",
              "  'precision': 0.6666666666666666,\n",
              "  'recall': 0.35,\n",
              "  'f1': 0.45901639344262296,\n",
              "  'cm': array([[68,  7],\n",
              "         [26, 14]])},\n",
              " {'model': 'svm_sigmoid',\n",
              "  'accuracy': 0.7217391304347827,\n",
              "  'precision': 0.6111111111111112,\n",
              "  'recall': 0.55,\n",
              "  'f1': 0.5789473684210527,\n",
              "  'cm': array([[61, 14],\n",
              "         [18, 22]])}]"
            ]
          },
          "metadata": {},
          "execution_count": 13
        }
      ]
    },
    {
      "cell_type": "markdown",
      "source": [
        "### Decision Tree Classifier\n",
        "Train and tune key parameters like max_depth and min_samples_split.\n"
      ],
      "metadata": {
        "id": "lyTsMDrtK7jB"
      }
    },
    {
      "cell_type": "code",
      "source": [
        "from sklearn.tree import DecisionTreeClassifier\n",
        "\n",
        "dt_params = {\n",
        "    \"clf__max_depth\": [3, 5, 7, None],\n",
        "    \"clf__min_samples_split\": [2, 5, 10]\n",
        "}\n",
        "\n",
        "dt_pipeline = Pipeline([(\"clf\", DecisionTreeClassifier(random_state=42))])\n",
        "\n",
        "dt_gs = GridSearchCV(dt_pipeline, dt_params, cv=cv, scoring=\"f1\", n_jobs=-1)\n",
        "dt_gs.fit(X_train_scaled, y_train)\n",
        "\n",
        "dt_result = eval_on_valid(\"decision_tree\", dt_gs.best_estimator_, X_valid_scaled, y_valid)\n",
        "dt_result\n"
      ],
      "metadata": {
        "colab": {
          "base_uri": "https://localhost:8080/"
        },
        "id": "5hooHe82K9Sn",
        "outputId": "9cf7e981-095e-4af4-de40-4591ef1a47ea"
      },
      "execution_count": 14,
      "outputs": [
        {
          "output_type": "execute_result",
          "data": {
            "text/plain": [
              "{'model': 'decision_tree',\n",
              " 'accuracy': 0.7043478260869566,\n",
              " 'precision': 0.59375,\n",
              " 'recall': 0.475,\n",
              " 'f1': 0.5277777777777778,\n",
              " 'cm': array([[62, 13],\n",
              "        [21, 19]])}"
            ]
          },
          "metadata": {},
          "execution_count": 14
        }
      ]
    },
    {
      "cell_type": "markdown",
      "source": [
        "###  Random Forest Classifier\n",
        "Train and tune parameters like number of trees (n_estimators) and max_depth.\n"
      ],
      "metadata": {
        "id": "yapoa6IbLH7z"
      }
    },
    {
      "cell_type": "code",
      "source": [
        "from sklearn.ensemble import RandomForestClassifier\n",
        "\n",
        "rf_params = {\n",
        "    \"clf__n_estimators\": [50, 100, 200],\n",
        "    \"clf__max_depth\": [None, 5, 10]\n",
        "}\n",
        "\n",
        "rf_pipeline = Pipeline([(\"clf\", RandomForestClassifier(random_state=42))])\n",
        "\n",
        "rf_gs = GridSearchCV(rf_pipeline, rf_params, cv=cv, scoring=\"f1\", n_jobs=-1)\n",
        "rf_gs.fit(X_train_scaled, y_train)\n",
        "\n",
        "rf_result = eval_on_valid(\"random_forest\", rf_gs.best_estimator_, X_valid_scaled, y_valid)\n",
        "rf_result\n"
      ],
      "metadata": {
        "colab": {
          "base_uri": "https://localhost:8080/"
        },
        "id": "RxIO9SQ-LLTx",
        "outputId": "9a6a8313-d582-464b-e7f1-b4e224259ae3"
      },
      "execution_count": 15,
      "outputs": [
        {
          "output_type": "execute_result",
          "data": {
            "text/plain": [
              "{'model': 'random_forest',\n",
              " 'accuracy': 0.7391304347826086,\n",
              " 'precision': 0.6388888888888888,\n",
              " 'recall': 0.575,\n",
              " 'f1': 0.6052631578947368,\n",
              " 'cm': array([[62, 13],\n",
              "        [17, 23]])}"
            ]
          },
          "metadata": {},
          "execution_count": 15
        }
      ]
    },
    {
      "cell_type": "markdown",
      "source": [],
      "metadata": {
        "id": "-KgJ9AHNLaj3"
      }
    },
    {
      "cell_type": "markdown",
      "source": [
        "###  XGBoost Classifier\n",
        "Train using XGBClassifier and tune parameters like learning_rate and max_depth.\n"
      ],
      "metadata": {
        "id": "QSN5XQnOLano"
      }
    },
    {
      "cell_type": "code",
      "source": [
        "from xgboost import XGBClassifier\n",
        "\n",
        "xgb_params = {\n",
        "    \"clf__learning_rate\": [0.01, 0.1, 0.2],\n",
        "    \"clf__max_depth\": [3, 5, 7],\n",
        "    \"clf__n_estimators\": [50, 100, 200]\n",
        "}\n",
        "\n",
        "xgb_pipeline = Pipeline([(\"clf\", XGBClassifier(use_label_encoder=False, eval_metric=\"logloss\", random_state=42))])\n",
        "\n",
        "xgb_gs = GridSearchCV(xgb_pipeline, xgb_params, cv=cv, scoring=\"f1\", n_jobs=-1)\n",
        "xgb_gs.fit(X_train_scaled, y_train)\n",
        "\n",
        "xgb_result = eval_on_valid(\"xgboost\", xgb_gs.best_estimator_, X_valid_scaled, y_valid)\n",
        "xgb_result\n"
      ],
      "metadata": {
        "colab": {
          "base_uri": "https://localhost:8080/"
        },
        "id": "gde8X_hlLePI",
        "outputId": "5a02592f-75f4-4426-9f18-be395c3c14af"
      },
      "execution_count": 16,
      "outputs": [
        {
          "output_type": "stream",
          "name": "stderr",
          "text": [
            "/usr/local/lib/python3.11/dist-packages/xgboost/training.py:183: UserWarning: [19:21:26] WARNING: /workspace/src/learner.cc:738: \n",
            "Parameters: { \"use_label_encoder\" } are not used.\n",
            "\n",
            "  bst.update(dtrain, iteration=i, fobj=obj)\n"
          ]
        },
        {
          "output_type": "execute_result",
          "data": {
            "text/plain": [
              "{'model': 'xgboost',\n",
              " 'accuracy': 0.7565217391304347,\n",
              " 'precision': 0.6666666666666666,\n",
              " 'recall': 0.6,\n",
              " 'f1': 0.631578947368421,\n",
              " 'cm': array([[63, 12],\n",
              "        [16, 24]])}"
            ]
          },
          "metadata": {},
          "execution_count": 16
        }
      ]
    },
    {
      "cell_type": "markdown",
      "source": [
        "###  k-Nearest Neighbors Classifier\n",
        "Train using KNeighborsClassifier and tune parameters like n_neighbors and weights.\n"
      ],
      "metadata": {
        "id": "PAJEMHIILoFR"
      }
    },
    {
      "cell_type": "code",
      "source": [
        "from sklearn.neighbors import KNeighborsClassifier\n",
        "\n",
        "knn_params = {\n",
        "    \"clf__n_neighbors\": [3, 5, 7, 9],\n",
        "    \"clf__weights\": [\"uniform\", \"distance\"]\n",
        "}\n",
        "\n",
        "knn_pipeline = Pipeline([(\"clf\", KNeighborsClassifier())])\n",
        "\n",
        "knn_gs = GridSearchCV(knn_pipeline, knn_params, cv=cv, scoring=\"f1\", n_jobs=-1)\n",
        "knn_gs.fit(X_train_scaled, y_train)\n",
        "\n",
        "knn_result = eval_on_valid(\"k-NN\", knn_gs.best_estimator_, X_valid_scaled, y_valid)\n",
        "knn_result\n"
      ],
      "metadata": {
        "colab": {
          "base_uri": "https://localhost:8080/"
        },
        "id": "PbjaY_r-Lp6B",
        "outputId": "981c0ae1-bcb2-447f-b262-6b078f6f8764"
      },
      "execution_count": 17,
      "outputs": [
        {
          "output_type": "execute_result",
          "data": {
            "text/plain": [
              "{'model': 'k-NN',\n",
              " 'accuracy': 0.7652173913043478,\n",
              " 'precision': 0.6666666666666666,\n",
              " 'recall': 0.65,\n",
              " 'f1': 0.6582278481012658,\n",
              " 'cm': array([[62, 13],\n",
              "        [14, 26]])}"
            ]
          },
          "metadata": {},
          "execution_count": 17
        }
      ]
    },
    {
      "cell_type": "markdown",
      "source": [
        "###  Logistic Regression\n",
        "Train using LogisticRegression and tune parameters like C (regularization) and solver.\n"
      ],
      "metadata": {
        "id": "d58O_sSFLyvN"
      }
    },
    {
      "cell_type": "code",
      "source": [
        "from sklearn.linear_model import LogisticRegression\n",
        "\n",
        "log_params = {\n",
        "    \"clf__C\": [0.01, 0.1, 1, 10],\n",
        "    \"clf__solver\": [\"liblinear\", \"lbfgs\"]\n",
        "}\n",
        "\n",
        "log_pipeline = Pipeline([(\"clf\", LogisticRegression(max_iter=1000))])\n",
        "\n",
        "log_gs = GridSearchCV(log_pipeline, log_params, cv=cv, scoring=\"f1\", n_jobs=-1)\n",
        "log_gs.fit(X_train_scaled, y_train)\n",
        "\n",
        "log_result = eval_on_valid(\"Logistic Regression\", log_gs.best_estimator_, X_valid_scaled, y_valid)\n",
        "log_result\n"
      ],
      "metadata": {
        "colab": {
          "base_uri": "https://localhost:8080/"
        },
        "id": "xIcjGJVFL0fe",
        "outputId": "7fd37481-775b-41a2-f5bb-0f71edf65593"
      },
      "execution_count": 18,
      "outputs": [
        {
          "output_type": "execute_result",
          "data": {
            "text/plain": [
              "{'model': 'Logistic Regression',\n",
              " 'accuracy': 0.7130434782608696,\n",
              " 'precision': 0.5945945945945946,\n",
              " 'recall': 0.55,\n",
              " 'f1': 0.5714285714285714,\n",
              " 'cm': array([[60, 15],\n",
              "        [18, 22]])}"
            ]
          },
          "metadata": {},
          "execution_count": 18
        }
      ]
    },
    {
      "cell_type": "code",
      "source": [
        "import pandas as pd\n",
        "\n",
        "# Combine all results into a list of dictionaries\n",
        "results = [\n",
        "    {'Model': 'SVM (Linear)', 'Accuracy': 0.7043, 'Precision': 0.5882, 'Recall': 0.50, 'F1-score': 0.5405},\n",
        "    {'Model': 'SVM (Poly)', 'Accuracy': 0.7130, 'Precision': 0.6667, 'Recall': 0.35, 'F1-score': 0.4590},\n",
        "    {'Model': 'SVM (Sigmoid)', 'Accuracy': 0.7217, 'Precision': 0.6111, 'Recall': 0.55, 'F1-score': 0.5789},\n",
        "    {'Model': 'SVM (RBF)', 'Accuracy': 0.7478, 'Precision': 0.6571, 'Recall': 0.575, 'F1-score': 0.6133},\n",
        "    {'Model': 'Decision Tree', 'Accuracy': 0.7043, 'Precision': 0.5938, 'Recall': 0.475, 'F1-score': 0.5278},\n",
        "    {'Model': 'Random Forest', 'Accuracy': 0.7391, 'Precision': 0.6389, 'Recall': 0.575, 'F1-score': 0.6053},\n",
        "    {'Model': 'XGBoost', 'Accuracy': 0.7565, 'Precision': 0.6667, 'Recall': 0.60, 'F1-score': 0.6316},\n",
        "    {'Model': 'k-NN', 'Accuracy': 0.7652, 'Precision': 0.6667, 'Recall': 0.65, 'F1-score': 0.6582},\n",
        "    {'Model': 'Logistic Regression', 'Accuracy': 0.7130, 'Precision': 0.5946, 'Recall': 0.55, 'F1-score': 0.5714}\n",
        "]\n",
        "\n",
        "# Create DataFrame\n",
        "df_results = pd.DataFrame(results)\n",
        "\n",
        "# Display sorted by Accuracy\n",
        "df_results.sort_values(by='Accuracy', ascending=False)\n"
      ],
      "metadata": {
        "colab": {
          "base_uri": "https://localhost:8080/",
          "height": 331
        },
        "id": "NJV1y5fgO1cE",
        "outputId": "eb25d478-0198-48c5-c93e-b44758203738"
      },
      "execution_count": 19,
      "outputs": [
        {
          "output_type": "execute_result",
          "data": {
            "text/plain": [
              "                 Model  Accuracy  Precision  Recall  F1-score\n",
              "7                 k-NN    0.7652     0.6667   0.650    0.6582\n",
              "6              XGBoost    0.7565     0.6667   0.600    0.6316\n",
              "3            SVM (RBF)    0.7478     0.6571   0.575    0.6133\n",
              "5        Random Forest    0.7391     0.6389   0.575    0.6053\n",
              "2        SVM (Sigmoid)    0.7217     0.6111   0.550    0.5789\n",
              "8  Logistic Regression    0.7130     0.5946   0.550    0.5714\n",
              "1           SVM (Poly)    0.7130     0.6667   0.350    0.4590\n",
              "0         SVM (Linear)    0.7043     0.5882   0.500    0.5405\n",
              "4        Decision Tree    0.7043     0.5938   0.475    0.5278"
            ],
            "text/html": [
              "\n",
              "  <div id=\"df-5cd0dd3b-2d65-4618-936e-f5f0732ce246\" class=\"colab-df-container\">\n",
              "    <div>\n",
              "<style scoped>\n",
              "    .dataframe tbody tr th:only-of-type {\n",
              "        vertical-align: middle;\n",
              "    }\n",
              "\n",
              "    .dataframe tbody tr th {\n",
              "        vertical-align: top;\n",
              "    }\n",
              "\n",
              "    .dataframe thead th {\n",
              "        text-align: right;\n",
              "    }\n",
              "</style>\n",
              "<table border=\"1\" class=\"dataframe\">\n",
              "  <thead>\n",
              "    <tr style=\"text-align: right;\">\n",
              "      <th></th>\n",
              "      <th>Model</th>\n",
              "      <th>Accuracy</th>\n",
              "      <th>Precision</th>\n",
              "      <th>Recall</th>\n",
              "      <th>F1-score</th>\n",
              "    </tr>\n",
              "  </thead>\n",
              "  <tbody>\n",
              "    <tr>\n",
              "      <th>7</th>\n",
              "      <td>k-NN</td>\n",
              "      <td>0.7652</td>\n",
              "      <td>0.6667</td>\n",
              "      <td>0.650</td>\n",
              "      <td>0.6582</td>\n",
              "    </tr>\n",
              "    <tr>\n",
              "      <th>6</th>\n",
              "      <td>XGBoost</td>\n",
              "      <td>0.7565</td>\n",
              "      <td>0.6667</td>\n",
              "      <td>0.600</td>\n",
              "      <td>0.6316</td>\n",
              "    </tr>\n",
              "    <tr>\n",
              "      <th>3</th>\n",
              "      <td>SVM (RBF)</td>\n",
              "      <td>0.7478</td>\n",
              "      <td>0.6571</td>\n",
              "      <td>0.575</td>\n",
              "      <td>0.6133</td>\n",
              "    </tr>\n",
              "    <tr>\n",
              "      <th>5</th>\n",
              "      <td>Random Forest</td>\n",
              "      <td>0.7391</td>\n",
              "      <td>0.6389</td>\n",
              "      <td>0.575</td>\n",
              "      <td>0.6053</td>\n",
              "    </tr>\n",
              "    <tr>\n",
              "      <th>2</th>\n",
              "      <td>SVM (Sigmoid)</td>\n",
              "      <td>0.7217</td>\n",
              "      <td>0.6111</td>\n",
              "      <td>0.550</td>\n",
              "      <td>0.5789</td>\n",
              "    </tr>\n",
              "    <tr>\n",
              "      <th>8</th>\n",
              "      <td>Logistic Regression</td>\n",
              "      <td>0.7130</td>\n",
              "      <td>0.5946</td>\n",
              "      <td>0.550</td>\n",
              "      <td>0.5714</td>\n",
              "    </tr>\n",
              "    <tr>\n",
              "      <th>1</th>\n",
              "      <td>SVM (Poly)</td>\n",
              "      <td>0.7130</td>\n",
              "      <td>0.6667</td>\n",
              "      <td>0.350</td>\n",
              "      <td>0.4590</td>\n",
              "    </tr>\n",
              "    <tr>\n",
              "      <th>0</th>\n",
              "      <td>SVM (Linear)</td>\n",
              "      <td>0.7043</td>\n",
              "      <td>0.5882</td>\n",
              "      <td>0.500</td>\n",
              "      <td>0.5405</td>\n",
              "    </tr>\n",
              "    <tr>\n",
              "      <th>4</th>\n",
              "      <td>Decision Tree</td>\n",
              "      <td>0.7043</td>\n",
              "      <td>0.5938</td>\n",
              "      <td>0.475</td>\n",
              "      <td>0.5278</td>\n",
              "    </tr>\n",
              "  </tbody>\n",
              "</table>\n",
              "</div>\n",
              "    <div class=\"colab-df-buttons\">\n",
              "\n",
              "  <div class=\"colab-df-container\">\n",
              "    <button class=\"colab-df-convert\" onclick=\"convertToInteractive('df-5cd0dd3b-2d65-4618-936e-f5f0732ce246')\"\n",
              "            title=\"Convert this dataframe to an interactive table.\"\n",
              "            style=\"display:none;\">\n",
              "\n",
              "  <svg xmlns=\"http://www.w3.org/2000/svg\" height=\"24px\" viewBox=\"0 -960 960 960\">\n",
              "    <path d=\"M120-120v-720h720v720H120Zm60-500h600v-160H180v160Zm220 220h160v-160H400v160Zm0 220h160v-160H400v160ZM180-400h160v-160H180v160Zm440 0h160v-160H620v160ZM180-180h160v-160H180v160Zm440 0h160v-160H620v160Z\"/>\n",
              "  </svg>\n",
              "    </button>\n",
              "\n",
              "  <style>\n",
              "    .colab-df-container {\n",
              "      display:flex;\n",
              "      gap: 12px;\n",
              "    }\n",
              "\n",
              "    .colab-df-convert {\n",
              "      background-color: #E8F0FE;\n",
              "      border: none;\n",
              "      border-radius: 50%;\n",
              "      cursor: pointer;\n",
              "      display: none;\n",
              "      fill: #1967D2;\n",
              "      height: 32px;\n",
              "      padding: 0 0 0 0;\n",
              "      width: 32px;\n",
              "    }\n",
              "\n",
              "    .colab-df-convert:hover {\n",
              "      background-color: #E2EBFA;\n",
              "      box-shadow: 0px 1px 2px rgba(60, 64, 67, 0.3), 0px 1px 3px 1px rgba(60, 64, 67, 0.15);\n",
              "      fill: #174EA6;\n",
              "    }\n",
              "\n",
              "    .colab-df-buttons div {\n",
              "      margin-bottom: 4px;\n",
              "    }\n",
              "\n",
              "    [theme=dark] .colab-df-convert {\n",
              "      background-color: #3B4455;\n",
              "      fill: #D2E3FC;\n",
              "    }\n",
              "\n",
              "    [theme=dark] .colab-df-convert:hover {\n",
              "      background-color: #434B5C;\n",
              "      box-shadow: 0px 1px 3px 1px rgba(0, 0, 0, 0.15);\n",
              "      filter: drop-shadow(0px 1px 2px rgba(0, 0, 0, 0.3));\n",
              "      fill: #FFFFFF;\n",
              "    }\n",
              "  </style>\n",
              "\n",
              "    <script>\n",
              "      const buttonEl =\n",
              "        document.querySelector('#df-5cd0dd3b-2d65-4618-936e-f5f0732ce246 button.colab-df-convert');\n",
              "      buttonEl.style.display =\n",
              "        google.colab.kernel.accessAllowed ? 'block' : 'none';\n",
              "\n",
              "      async function convertToInteractive(key) {\n",
              "        const element = document.querySelector('#df-5cd0dd3b-2d65-4618-936e-f5f0732ce246');\n",
              "        const dataTable =\n",
              "          await google.colab.kernel.invokeFunction('convertToInteractive',\n",
              "                                                    [key], {});\n",
              "        if (!dataTable) return;\n",
              "\n",
              "        const docLinkHtml = 'Like what you see? Visit the ' +\n",
              "          '<a target=\"_blank\" href=https://colab.research.google.com/notebooks/data_table.ipynb>data table notebook</a>'\n",
              "          + ' to learn more about interactive tables.';\n",
              "        element.innerHTML = '';\n",
              "        dataTable['output_type'] = 'display_data';\n",
              "        await google.colab.output.renderOutput(dataTable, element);\n",
              "        const docLink = document.createElement('div');\n",
              "        docLink.innerHTML = docLinkHtml;\n",
              "        element.appendChild(docLink);\n",
              "      }\n",
              "    </script>\n",
              "  </div>\n",
              "\n",
              "\n",
              "    <div id=\"df-24edad8d-adbf-4867-83a0-3fbc0b4bc62b\">\n",
              "      <button class=\"colab-df-quickchart\" onclick=\"quickchart('df-24edad8d-adbf-4867-83a0-3fbc0b4bc62b')\"\n",
              "                title=\"Suggest charts\"\n",
              "                style=\"display:none;\">\n",
              "\n",
              "<svg xmlns=\"http://www.w3.org/2000/svg\" height=\"24px\"viewBox=\"0 0 24 24\"\n",
              "     width=\"24px\">\n",
              "    <g>\n",
              "        <path d=\"M19 3H5c-1.1 0-2 .9-2 2v14c0 1.1.9 2 2 2h14c1.1 0 2-.9 2-2V5c0-1.1-.9-2-2-2zM9 17H7v-7h2v7zm4 0h-2V7h2v10zm4 0h-2v-4h2v4z\"/>\n",
              "    </g>\n",
              "</svg>\n",
              "      </button>\n",
              "\n",
              "<style>\n",
              "  .colab-df-quickchart {\n",
              "      --bg-color: #E8F0FE;\n",
              "      --fill-color: #1967D2;\n",
              "      --hover-bg-color: #E2EBFA;\n",
              "      --hover-fill-color: #174EA6;\n",
              "      --disabled-fill-color: #AAA;\n",
              "      --disabled-bg-color: #DDD;\n",
              "  }\n",
              "\n",
              "  [theme=dark] .colab-df-quickchart {\n",
              "      --bg-color: #3B4455;\n",
              "      --fill-color: #D2E3FC;\n",
              "      --hover-bg-color: #434B5C;\n",
              "      --hover-fill-color: #FFFFFF;\n",
              "      --disabled-bg-color: #3B4455;\n",
              "      --disabled-fill-color: #666;\n",
              "  }\n",
              "\n",
              "  .colab-df-quickchart {\n",
              "    background-color: var(--bg-color);\n",
              "    border: none;\n",
              "    border-radius: 50%;\n",
              "    cursor: pointer;\n",
              "    display: none;\n",
              "    fill: var(--fill-color);\n",
              "    height: 32px;\n",
              "    padding: 0;\n",
              "    width: 32px;\n",
              "  }\n",
              "\n",
              "  .colab-df-quickchart:hover {\n",
              "    background-color: var(--hover-bg-color);\n",
              "    box-shadow: 0 1px 2px rgba(60, 64, 67, 0.3), 0 1px 3px 1px rgba(60, 64, 67, 0.15);\n",
              "    fill: var(--button-hover-fill-color);\n",
              "  }\n",
              "\n",
              "  .colab-df-quickchart-complete:disabled,\n",
              "  .colab-df-quickchart-complete:disabled:hover {\n",
              "    background-color: var(--disabled-bg-color);\n",
              "    fill: var(--disabled-fill-color);\n",
              "    box-shadow: none;\n",
              "  }\n",
              "\n",
              "  .colab-df-spinner {\n",
              "    border: 2px solid var(--fill-color);\n",
              "    border-color: transparent;\n",
              "    border-bottom-color: var(--fill-color);\n",
              "    animation:\n",
              "      spin 1s steps(1) infinite;\n",
              "  }\n",
              "\n",
              "  @keyframes spin {\n",
              "    0% {\n",
              "      border-color: transparent;\n",
              "      border-bottom-color: var(--fill-color);\n",
              "      border-left-color: var(--fill-color);\n",
              "    }\n",
              "    20% {\n",
              "      border-color: transparent;\n",
              "      border-left-color: var(--fill-color);\n",
              "      border-top-color: var(--fill-color);\n",
              "    }\n",
              "    30% {\n",
              "      border-color: transparent;\n",
              "      border-left-color: var(--fill-color);\n",
              "      border-top-color: var(--fill-color);\n",
              "      border-right-color: var(--fill-color);\n",
              "    }\n",
              "    40% {\n",
              "      border-color: transparent;\n",
              "      border-right-color: var(--fill-color);\n",
              "      border-top-color: var(--fill-color);\n",
              "    }\n",
              "    60% {\n",
              "      border-color: transparent;\n",
              "      border-right-color: var(--fill-color);\n",
              "    }\n",
              "    80% {\n",
              "      border-color: transparent;\n",
              "      border-right-color: var(--fill-color);\n",
              "      border-bottom-color: var(--fill-color);\n",
              "    }\n",
              "    90% {\n",
              "      border-color: transparent;\n",
              "      border-bottom-color: var(--fill-color);\n",
              "    }\n",
              "  }\n",
              "</style>\n",
              "\n",
              "      <script>\n",
              "        async function quickchart(key) {\n",
              "          const quickchartButtonEl =\n",
              "            document.querySelector('#' + key + ' button');\n",
              "          quickchartButtonEl.disabled = true;  // To prevent multiple clicks.\n",
              "          quickchartButtonEl.classList.add('colab-df-spinner');\n",
              "          try {\n",
              "            const charts = await google.colab.kernel.invokeFunction(\n",
              "                'suggestCharts', [key], {});\n",
              "          } catch (error) {\n",
              "            console.error('Error during call to suggestCharts:', error);\n",
              "          }\n",
              "          quickchartButtonEl.classList.remove('colab-df-spinner');\n",
              "          quickchartButtonEl.classList.add('colab-df-quickchart-complete');\n",
              "        }\n",
              "        (() => {\n",
              "          let quickchartButtonEl =\n",
              "            document.querySelector('#df-24edad8d-adbf-4867-83a0-3fbc0b4bc62b button');\n",
              "          quickchartButtonEl.style.display =\n",
              "            google.colab.kernel.accessAllowed ? 'block' : 'none';\n",
              "        })();\n",
              "      </script>\n",
              "    </div>\n",
              "\n",
              "    </div>\n",
              "  </div>\n"
            ],
            "application/vnd.google.colaboratory.intrinsic+json": {
              "type": "dataframe",
              "summary": "{\n  \"name\": \"df_results\",\n  \"rows\": 9,\n  \"fields\": [\n    {\n      \"column\": \"Model\",\n      \"properties\": {\n        \"dtype\": \"string\",\n        \"num_unique_values\": 9,\n        \"samples\": [\n          \"SVM (Linear)\",\n          \"XGBoost\",\n          \"Logistic Regression\"\n        ],\n        \"semantic_type\": \"\",\n        \"description\": \"\"\n      }\n    },\n    {\n      \"column\": \"Accuracy\",\n      \"properties\": {\n        \"dtype\": \"number\",\n        \"std\": 0.023199999999999988,\n        \"min\": 0.7043,\n        \"max\": 0.7652,\n        \"num_unique_values\": 7,\n        \"samples\": [\n          0.7652,\n          0.7565,\n          0.713\n        ],\n        \"semantic_type\": \"\",\n        \"description\": \"\"\n      }\n    },\n    {\n      \"column\": \"Precision\",\n      \"properties\": {\n        \"dtype\": \"number\",\n        \"std\": 0.03446226196871006,\n        \"min\": 0.5882,\n        \"max\": 0.6667,\n        \"num_unique_values\": 7,\n        \"samples\": [\n          0.6667,\n          0.6571,\n          0.5882\n        ],\n        \"semantic_type\": \"\",\n        \"description\": \"\"\n      }\n    },\n    {\n      \"column\": \"Recall\",\n      \"properties\": {\n        \"dtype\": \"number\",\n        \"std\": 0.08670271686118672,\n        \"min\": 0.35,\n        \"max\": 0.65,\n        \"num_unique_values\": 7,\n        \"samples\": [\n          0.65,\n          0.6,\n          0.5\n        ],\n        \"semantic_type\": \"\",\n        \"description\": \"\"\n      }\n    },\n    {\n      \"column\": \"F1-score\",\n      \"properties\": {\n        \"dtype\": \"number\",\n        \"std\": 0.06062136128828223,\n        \"min\": 0.459,\n        \"max\": 0.6582,\n        \"num_unique_values\": 9,\n        \"samples\": [\n          0.5405,\n          0.6316,\n          0.5714\n        ],\n        \"semantic_type\": \"\",\n        \"description\": \"\"\n      }\n    }\n  ]\n}"
            }
          },
          "metadata": {},
          "execution_count": 19
        }
      ]
    },
    {
      "cell_type": "code",
      "source": [
        "import matplotlib.pyplot as plt\n",
        "\n",
        "metrics = ['Accuracy', 'Precision', 'Recall', 'F1-score']\n",
        "df_results.set_index('Model')[metrics].plot(kind='bar', figsize=(12, 6))\n",
        "plt.title('Model Performance Comparison')\n",
        "plt.ylabel('Score')\n",
        "plt.ylim(0, 1)\n",
        "plt.legend(loc='lower right')\n",
        "plt.show()\n"
      ],
      "metadata": {
        "colab": {
          "base_uri": "https://localhost:8080/",
          "height": 683
        },
        "id": "JsqpxBLKPSeo",
        "outputId": "3b01cb18-c19b-4cfe-b99c-7856aab02a68"
      },
      "execution_count": 20,
      "outputs": [
        {
          "output_type": "display_data",
          "data": {
            "text/plain": [
              "<Figure size 1200x600 with 1 Axes>"
            ],
            "image/png": "[encoded data removed]"
          },
          "metadata": {}
        }
      ]
    },
    {
      "cell_type": "code",
      "source": [
        "import seaborn as sns\n",
        "plt.figure(figsize=(10,6))\n",
        "sns.heatmap(df_results.set_index('Model')[['Accuracy', 'Precision', 'Recall', 'F1-score']],\n",
        "            annot=True, cmap='YlGnBu', fmt=\".2f\")\n",
        "plt.title('Model Performance Heatmap')\n",
        "plt.show()\n"
      ],
      "metadata": {
        "colab": {
          "base_uri": "https://localhost:8080/",
          "height": 545
        },
        "id": "I_B3iuSCSBSR",
        "outputId": "df236712-9c82-4dac-d9d4-9d66458a1bcb"
      },
      "execution_count": 21,
      "outputs": [
        {
          "output_type": "display_data",
          "data": {
            "text/plain": [
              "<Figure size 1000x600 with 2 Axes>"
            ],
            "image/png": "[encoded data removed]"
          },
          "metadata": {}
        }
      ]
    },
    {
      "cell_type": "code",
      "source": [
        "\n",
        "df_results.to_csv(\"task3_results.csv\", index=False)\n",
        "\n",
        "from google.colab import files\n",
        "files.download(\"task3_results.csv\")\n"
      ],
      "metadata": {
        "colab": {
          "base_uri": "https://localhost:8080/",
          "height": 17
        },
        "id": "vgdWUQqtVcSb",
        "outputId": "c3a6daf1-8c77-4754-e2c3-7b9906f013fa"
      },
      "execution_count": 24,
      "outputs": [
        {
          "output_type": "display_data",
          "data": {
            "text/plain": [
              "<IPython.core.display.Javascript object>"
            ],
            "application/javascript": [
              "\n",
              "    async function download(id, filename, size) {\n",
              "      if (!google.colab.kernel.accessAllowed) {\n",
              "        return;\n",
              "      }\n",
              "      const div = document.createElement('div');\n",
              "      const label = document.createElement('label');\n",
              "      label.textContent = `Downloading \"${filename}\": `;\n",
              "      div.appendChild(label);\n",
              "      const progress = document.createElement('progress');\n",
              "      progress.max = size;\n",
              "      div.appendChild(progress);\n",
              "      document.body.appendChild(div);\n",
              "\n",
              "      const buffers = [];\n",
              "      let downloaded = 0;\n",
              "\n",
              "      const channel = await google.colab.kernel.comms.open(id);\n",
              "      // Send a message to notify the kernel that we're ready.\n",
              "      channel.send({})\n",
              "\n",
              "      for await (const message of channel.messages) {\n",
              "        // Send a message to notify the kernel that we're ready.\n",
              "        channel.send({})\n",
              "        if (message.buffers) {\n",
              "          for (const buffer of message.buffers) {\n",
              "            buffers.push(buffer);\n",
              "            downloaded += buffer.byteLength;\n",
              "            progress.value = downloaded;\n",
              "          }\n",
              "        }\n",
              "      }\n",
              "      const blob = new Blob(buffers, {type: 'application/binary'});\n",
              "      const a = document.createElement('a');\n",
              "      a.href = window.URL.createObjectURL(blob);\n",
              "      a.download = filename;\n",
              "      div.appendChild(a);\n",
              "      a.click();\n",
              "      div.remove();\n",
              "    }\n",
              "  "
            ]
          },
          "metadata": {}
        },
        {
          "output_type": "display_data",
          "data": {
            "text/plain": [
              "<IPython.core.display.Javascript object>"
            ],
            "application/javascript": [
              "download(\"download_f2248625-4175-41b9-ad87-90f7b85b8273\", \"task3_results.csv\", 382)"
            ]
          },
          "metadata": {}
        }
      ]
    }
  ]
}